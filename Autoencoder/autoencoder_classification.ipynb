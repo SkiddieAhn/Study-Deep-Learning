{
 "cells": [
  {
   "cell_type": "code",
   "execution_count": 1,
   "id": "e91eb7d5-0c46-456f-aa20-59f2172932d8",
   "metadata": {},
   "outputs": [
    {
     "name": "stdout",
     "output_type": "stream",
     "text": [
      "1 Physical GPUs, 1 Logical GPUs\n"
     ]
    }
   ],
   "source": [
    "import tensorflow as tf\n",
    "gpus = tf.config.experimental.list_physical_devices('GPU')\n",
    "if gpus:\n",
    "    try: # Currently, memory growth needs to be the same across GPUs \n",
    "        for gpu in gpus:\n",
    "            tf.config.experimental.set_memory_growth(gpu, True)\n",
    "        logical_gpus = tf.config.experimental.list_logical_devices('GPU')\n",
    "        print(len(gpus), \"Physical GPUs,\", len(logical_gpus), \"Logical GPUs\")\n",
    "    except RuntimeError as e: # Memory growth must be set before GPUs have been initialized print(e)\n",
    "        print(e)"
   ]
  },
  {
   "cell_type": "code",
   "execution_count": 2,
   "id": "625e179e-ed89-4a11-86c8-ed4337916368",
   "metadata": {},
   "outputs": [],
   "source": [
    "try:\n",
    "    %tensorflow_version 2.x\n",
    "except Exception:\n",
    "    pass\n",
    "import tensorflow as tf\n",
    "import numpy as np\n",
    "import matplotlib.pyplot as plt\n",
    "import random"
   ]
  },
  {
   "cell_type": "code",
   "execution_count": 3,
   "id": "1b1d78a6-d88c-444e-8a1b-997c9c062b25",
   "metadata": {},
   "outputs": [
    {
     "name": "stdout",
     "output_type": "stream",
     "text": [
      "(60000, 28, 28) (60000,)\n"
     ]
    }
   ],
   "source": [
    "(train_X,train_Y),(test_X,test_Y)=tf.keras.datasets.mnist.load_data()\n",
    "print(train_X.shape, train_Y.shape)\n",
    "train_X=train_X/255\n",
    "test_X=test_X/255\n",
    "latent_size=64"
   ]
  },
  {
   "cell_type": "code",
   "execution_count": 4,
   "id": "32383716-4613-4f3d-8421-b7b1bead0044",
   "metadata": {},
   "outputs": [
    {
     "data": {
      "image/png": "[encoded data removed]",
      "text/plain": [
       "<Figure size 432x288 with 2 Axes>"
      ]
     },
     "metadata": {
      "needs_background": "light"
     },
     "output_type": "display_data"
    },
    {
     "name": "stdout",
     "output_type": "stream",
     "text": [
      "5\n"
     ]
    }
   ],
   "source": [
    "plt.imshow(train_X[0].reshape(28,28),cmap='gray')\n",
    "plt.colorbar()\n",
    "plt.show()\n",
    "print(train_Y[0])"
   ]
  },
  {
   "cell_type": "code",
   "execution_count": 5,
   "id": "bf80c3f6-5101-4ed8-8b74-984bbabf9641",
   "metadata": {},
   "outputs": [
    {
     "name": "stdout",
     "output_type": "stream",
     "text": [
      "(60000, 784) (60000,)\n",
      "Epoch 1/10\n",
      "235/235 [==============================] - 1s 3ms/step - loss: 0.0851A: 0s - lo\n",
      "Epoch 2/10\n",
      "235/235 [==============================] - 1s 3ms/step - loss: 0.0240\n",
      "Epoch 3/10\n",
      "235/235 [==============================] - 1s 3ms/step - loss: 0.0172\n",
      "Epoch 4/10\n",
      "235/235 [==============================] - 1s 3ms/step - loss: 0.0141\n",
      "Epoch 5/10\n",
      "235/235 [==============================] - 1s 3ms/step - loss: 0.0123\n",
      "Epoch 6/10\n",
      "235/235 [==============================] - 1s 3ms/step - loss: 0.0110\n",
      "Epoch 7/10\n",
      "235/235 [==============================] - 1s 3ms/step - loss: 0.0101\n",
      "Epoch 8/10\n",
      "235/235 [==============================] - 1s 3ms/step - loss: 0.0093\n",
      "Epoch 9/10\n",
      "235/235 [==============================] - 1s 3ms/step - loss: 0.0089\n",
      "Epoch 10/10\n",
      "235/235 [==============================] - 1s 3ms/step - loss: 0.0084\n"
     ]
    },
    {
     "data": {
      "text/plain": [
       "<tensorflow.python.keras.callbacks.History at 0x18aaeffd430>"
      ]
     },
     "execution_count": 5,
     "metadata": {},
     "output_type": "execute_result"
    }
   ],
   "source": [
    "train_X=train_X.reshape(-1,28*28)\n",
    "test_X=test_X.reshape(-1,28*28)\n",
    "print(train_X.shape,train_Y.shape)\n",
    "\n",
    "# Functional API\n",
    "input_img=tf.keras.Input(shape=(784,))\n",
    "\n",
    "# encoder\n",
    "encoder1=tf.keras.layers.Dense(256,activation='relu')(input_img)\n",
    "encoder2=tf.keras.layers.Dense(128,activation='relu')(encoder1)\n",
    "encoder3=tf.keras.layers.Dense(latent_size,activation='relu')(encoder2)\n",
    "\n",
    "# decoder\n",
    "decoder1=tf.keras.layers.Dense(128,activation='relu')(encoder3)\n",
    "decoder2=tf.keras.layers.Dense(256,activation='relu')(decoder1)\n",
    "output_img=tf.keras.layers.Dense(784,activation='sigmoid')(decoder2)\n",
    "\n",
    "# 모델 정의\n",
    "autoencoder=tf.keras.Model(inputs=input_img,outputs=output_img)\n",
    "autoencoder.compile(optimizer='adam',loss='mse')\n",
    "autoencoder.fit(train_X,train_X,epochs=10,batch_size=256)"
   ]
  },
  {
   "cell_type": "code",
   "execution_count": 7,
   "id": "77a8d12a-8267-4a89-9947-2096a9265c9e",
   "metadata": {},
   "outputs": [],
   "source": [
    "# 인코더 모델 정의\n",
    "encoder=tf.keras.Model(inputs=input_img,outputs=encoder3)\n",
    "encoded_input=tf.keras.Input(shape=(latent_size,))\n",
    "\n",
    "# 디코더 모델 정의\n",
    "decoder_layer1=autoencoder.layers[-3](encoded_input)\n",
    "decoder_layer2=autoencoder.layers[-2](decoder_layer1)\n",
    "decoder_layer3=autoencoder.layers[-1](decoder_layer2)\n",
    "decoder=tf.keras.Model(inputs=encoded_input,outputs=decoder_layer3)"
   ]
  },
  {
   "cell_type": "code",
   "execution_count": 9,
   "id": "83385199-2d00-4828-afdd-85dcce32fc59",
   "metadata": {},
   "outputs": [],
   "source": [
    "# 잠재변수 값\n",
    "latent_train=encoder.predict(train_X)\n",
    "latent_test=encoder.predict(test_X)\n",
    "\n",
    "# 재구성 값\n",
    "reconstructed_imgs=decoder.predict(latent_test)"
   ]
  },
  {
   "cell_type": "markdown",
   "id": "7441885f-8e22-4d3a-bc07-f7ef2d706649",
   "metadata": {},
   "source": [
    "### 전이학습"
   ]
  },
  {
   "cell_type": "code",
   "execution_count": 18,
   "id": "35702d07-880b-40ca-a375-af2a0256a08e",
   "metadata": {},
   "outputs": [
    {
     "name": "stdout",
     "output_type": "stream",
     "text": [
      "Epoch 1/25\n",
      "1407/1407 [==============================] - 4s 2ms/step - loss: 1.6880 - accuracy: 0.6004 - val_loss: 0.3883 - val_accuracy: 0.8814\n",
      "Epoch 2/25\n",
      "1407/1407 [==============================] - 3s 2ms/step - loss: 0.4086 - accuracy: 0.8757 - val_loss: 0.3441 - val_accuracy: 0.8943\n",
      "Epoch 3/25\n",
      "1407/1407 [==============================] - 3s 2ms/step - loss: 0.3360 - accuracy: 0.8962 - val_loss: 0.3057 - val_accuracy: 0.9061\n",
      "Epoch 4/25\n",
      "1407/1407 [==============================] - 3s 2ms/step - loss: 0.3059 - accuracy: 0.9070 - val_loss: 0.2707 - val_accuracy: 0.9192\n",
      "Epoch 5/25\n",
      "1407/1407 [==============================] - 3s 2ms/step - loss: 0.2933 - accuracy: 0.9130 - val_loss: 0.2645 - val_accuracy: 0.9207\n",
      "Epoch 6/25\n",
      "1407/1407 [==============================] - 3s 2ms/step - loss: 0.2668 - accuracy: 0.9196 - val_loss: 0.2485 - val_accuracy: 0.9248\n",
      "Epoch 7/25\n",
      "1407/1407 [==============================] - 3s 2ms/step - loss: 0.2492 - accuracy: 0.9241 - val_loss: 0.2453 - val_accuracy: 0.9257\n",
      "Epoch 8/25\n",
      "1407/1407 [==============================] - 3s 2ms/step - loss: 0.2397 - accuracy: 0.9244 - val_loss: 0.2462 - val_accuracy: 0.9253\n"
     ]
    }
   ],
   "source": [
    "# 원핫코딩\n",
    "train_Y_onehot=tf.keras.utils.to_categorical(train_Y,num_classes=10)\n",
    "test_Y_onehot=tf.keras.utils.to_categorical(test_Y,num_classes=10)\n",
    "\n",
    "# Functional API\n",
    "input_latent=tf.keras.Input(shape=(latent_size,))\n",
    "\n",
    "# classifier\n",
    "hidden=tf.keras.layers.Dense(32,activation='relu')(input_latent)\n",
    "output_class=tf.keras.layers.Dense(10,activation='softmax')(hidden)\n",
    "\n",
    "# 분류기 모델 정의\n",
    "classifier=tf.keras.Model(inputs=input_latent, outputs=output_class)\n",
    "classifier.compile(optimizer=tf.keras.optimizers.Adam(),loss='categorical_crossentropy',metrics=['accuracy'])\n",
    "history=classifier.fit(latent_train,train_Y_onehot,epochs=25,validation_split=0.25,callbacks=[tf.keras.callbacks.EarlyStopping()])"
   ]
  },
  {
   "cell_type": "code",
   "execution_count": 20,
   "id": "0a0826b6-2916-4c69-8635-9144a5e65f6d",
   "metadata": {},
   "outputs": [
    {
     "data": {
      "text/plain": [
       "[0.23074379563331604, 0.9312000274658203]"
      ]
     },
     "execution_count": 20,
     "metadata": {},
     "output_type": "execute_result"
    }
   ],
   "source": [
    "# 성능 평가\n",
    "classifier.evaluate(latent_test,test_Y_onehot,verbose=0)"
   ]
  },
  {
   "cell_type": "code",
   "execution_count": null,
   "id": "1e82c198-2251-4cb5-8b16-4b41d14e09a7",
   "metadata": {},
   "outputs": [],
   "source": []
  }
 ],
 "metadata": {
  "kernelspec": {
   "display_name": "Python 3 (ipykernel)",
   "language": "python",
   "name": "python3"
  },
  "language_info": {
   "codemirror_mode": {
    "name": "ipython",
    "version": 3
   },
   "file_extension": ".py",
   "mimetype": "text/x-python",
   "name": "python",
   "nbconvert_exporter": "python",
   "pygments_lexer": "ipython3",
   "version": "3.8.11"
  }
 },
 "nbformat": 4,
 "nbformat_minor": 5
}
