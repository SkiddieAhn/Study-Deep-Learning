{
 "cells": [
  {
   "cell_type": "code",
   "execution_count": 2,
   "id": "8c1ec642-b6ce-425c-b4c0-652cc90d2aa6",
   "metadata": {},
   "outputs": [],
   "source": [
    "try:\n",
    "    %tensorflow_version 2.x\n",
    "except Exception:\n",
    "    pass\n",
    "import tensorflow as tf\n",
    "import numpy as np\n",
    "import matplotlib.pyplot as plt\n",
    "import random"
   ]
  },
  {
   "cell_type": "code",
   "execution_count": 3,
   "id": "31457779-b6af-47a9-8255-116974d40c72",
   "metadata": {},
   "outputs": [
    {
     "name": "stdout",
     "output_type": "stream",
     "text": [
      "(60000, 28, 28) (60000,)\n"
     ]
    }
   ],
   "source": [
    "(train_X,train_Y),(test_X,test_Y)=tf.keras.datasets.mnist.load_data()\n",
    "print(train_X.shape, train_Y.shape)\n",
    "train_X=train_X/255\n",
    "test_X=test_X/255\n",
    "latent_size=64"
   ]
  },
  {
   "cell_type": "code",
   "execution_count": 4,
   "id": "35ceb595-763b-4b89-a797-97440664636d",
   "metadata": {},
   "outputs": [
    {
     "data": {
      "image/png": "[encoded data removed]",
      "text/plain": [
       "<Figure size 432x288 with 2 Axes>"
      ]
     },
     "metadata": {
      "needs_background": "light"
     },
     "output_type": "display_data"
    },
    {
     "name": "stdout",
     "output_type": "stream",
     "text": [
      "5\n"
     ]
    }
   ],
   "source": [
    "plt.imshow(train_X[0].reshape(28,28),cmap='gray')\n",
    "plt.colorbar()\n",
    "plt.show()\n",
    "print(train_Y[0])"
   ]
  },
  {
   "cell_type": "code",
   "execution_count": 8,
   "id": "7f4fd40f-6f83-4ce1-b9de-1e822fed0cdf",
   "metadata": {},
   "outputs": [
    {
     "name": "stdout",
     "output_type": "stream",
     "text": [
      "(60000, 784) (60000,)\n",
      "Model: \"sequential_1\"\n",
      "_________________________________________________________________\n",
      "Layer (type)                 Output Shape              Param #   \n",
      "=================================================================\n",
      "dense_3 (Dense)              (None, 784)               615440    \n",
      "_________________________________________________________________\n",
      "dense_4 (Dense)              (None, 64)                50240     \n",
      "_________________________________________________________________\n",
      "dense_5 (Dense)              (None, 784)               50960     \n",
      "=================================================================\n",
      "Total params: 716,640\n",
      "Trainable params: 716,640\n",
      "Non-trainable params: 0\n",
      "_________________________________________________________________\n",
      "Epoch 1/10\n",
      "235/235 [==============================] - 1s 3ms/step - loss: 0.0838\n",
      "Epoch 2/10\n",
      "235/235 [==============================] - 1s 3ms/step - loss: 0.0181\n",
      "Epoch 3/10\n",
      "235/235 [==============================] - 1s 3ms/step - loss: 0.0122\n",
      "Epoch 4/10\n",
      "235/235 [==============================] - 1s 2ms/step - loss: 0.0100\n",
      "Epoch 5/10\n",
      "235/235 [==============================] - 1s 2ms/step - loss: 0.0087\n",
      "Epoch 6/10\n",
      "235/235 [==============================] - 1s 3ms/step - loss: 0.0078\n",
      "Epoch 7/10\n",
      "235/235 [==============================] - 1s 2ms/step - loss: 0.0073\n",
      "Epoch 8/10\n",
      "235/235 [==============================] - 1s 3ms/step - loss: 0.0068\n",
      "Epoch 9/10\n",
      "235/235 [==============================] - 1s 3ms/step - loss: 0.0065\n",
      "Epoch 10/10\n",
      "235/235 [==============================] - 1s 3ms/step - loss: 0.0062\n"
     ]
    },
    {
     "data": {
      "text/plain": [
       "<tensorflow.python.keras.callbacks.History at 0x1f733e59100>"
      ]
     },
     "execution_count": 8,
     "metadata": {},
     "output_type": "execute_result"
    }
   ],
   "source": [
    "train_X=train_X.reshape(-1,28*28)\n",
    "test_X=test_X.reshape(-1,28*28)\n",
    "print(train_X.shape,train_Y.shape)\n",
    "\n",
    "model=tf.keras.Sequential([\n",
    "    tf.keras.layers.Dense(784,activation='relu',input_shape=(784,)),\n",
    "    tf.keras.layers.Dense(64,activation='relu'),\n",
    "    tf.keras.layers.Dense(784,activation='sigmoid')\n",
    "])\n",
    "model.compile(optimizer=tf.optimizers.Adam(),loss='mse')\n",
    "model.summary()\n",
    "model.fit(train_X,train_X,epochs=10,batch_size=256)"
   ]
  },
  {
   "cell_type": "code",
   "execution_count": 9,
   "id": "f1959b33-d3f2-4c34-8240-9379a0ee1dfe",
   "metadata": {},
   "outputs": [
    {
     "data": {
      "image/png": "[encoded data removed]",
      "text/plain": [
       "<Figure size 288x576 with 8 Axes>"
      ]
     },
     "metadata": {
      "needs_background": "light"
     },
     "output_type": "display_data"
    }
   ],
   "source": [
    "plt.figure(figsize=(4,8))\n",
    "for c in range(4):\n",
    "    plt.subplot(4,2,c*2+1)\n",
    "    rand_index=random.randint(0,test_X.shape[0])\n",
    "    plt.imshow(test_X[rand_index].reshape(28,28),cmap='gray')\n",
    "    plt.axis('off')\n",
    "    \n",
    "    plt.subplot(4,2,c*2+2)\n",
    "    img=model.predict(np.expand_dims(test_X[rand_index],axis=0))\n",
    "    plt.imshow(img.reshape(28,28),cmap='gray')\n",
    "    plt.axis('off')\n",
    "\n",
    "plt.show()"
   ]
  },
  {
   "cell_type": "code",
   "execution_count": null,
   "id": "fe8112b2-ea95-44fd-98fe-1bb0b388ea02",
   "metadata": {},
   "outputs": [],
   "source": []
  }
 ],
 "metadata": {
  "kernelspec": {
   "display_name": "DL",
   "language": "python",
   "name": "dl"
  },
  "language_info": {
   "codemirror_mode": {
    "name": "ipython",
    "version": 3
   },
   "file_extension": ".py",
   "mimetype": "text/x-python",
   "name": "python",
   "nbconvert_exporter": "python",
   "pygments_lexer": "ipython3",
   "version": "3.8.11"
  }
 },
 "nbformat": 4,
 "nbformat_minor": 5
}
