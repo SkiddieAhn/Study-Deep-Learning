{
 "cells": [
  {
   "cell_type": "code",
   "execution_count": 1,
   "id": "299727e9-bd68-443b-b6df-8b6a416c20d2",
   "metadata": {},
   "outputs": [
    {
     "name": "stdout",
     "output_type": "stream",
     "text": [
      "1 Physical GPUs, 1 Logical GPUs\n"
     ]
    }
   ],
   "source": [
    "import tensorflow as tf\n",
    "gpus = tf.config.experimental.list_physical_devices('GPU')\n",
    "if gpus:\n",
    "    try: # Currently, memory growth needs to be the same across GPUs \n",
    "        for gpu in gpus:\n",
    "            tf.config.experimental.set_memory_growth(gpu, True)\n",
    "        logical_gpus = tf.config.experimental.list_logical_devices('GPU')\n",
    "        print(len(gpus), \"Physical GPUs,\", len(logical_gpus), \"Logical GPUs\")\n",
    "    except RuntimeError as e: # Memory growth must be set before GPUs have been initialized print(e)\n",
    "        print(e)"
   ]
  },
  {
   "cell_type": "code",
   "execution_count": 2,
   "id": "12f31a2d-b57b-41a9-97dd-fb3c4505aa81",
   "metadata": {},
   "outputs": [],
   "source": [
    "from sklearn.preprocessing import LabelBinarizer\n",
    "from sklearn.metrics import classification_report\n",
    "from lenet import LeNet\n",
    "from tensorflow.keras.optimizers import SGD\n",
    "from tensorflow.keras.datasets import mnist\n",
    "from tensorflow.keras import backend as K\n",
    "import tensorflow as tf\n",
    "import tensorflow_datasets.public_api as tfds\n",
    "import matplotlib.pyplot as plt\n",
    "import numpy as np"
   ]
  },
  {
   "cell_type": "code",
   "execution_count": 11,
   "id": "460d3149-6065-47be-b675-ac03a82b5cb9",
   "metadata": {},
   "outputs": [
    {
     "name": "stdout",
     "output_type": "stream",
     "text": [
      "[INFO] accessing MNIST...\n",
      "(60000, 28, 28, 1)\n",
      "(10000, 28, 28, 1)\n",
      "(60000,)\n",
      "(10000,)\n"
     ]
    }
   ],
   "source": [
    "print(\"[INFO] accessing MNIST...\")\n",
    "((trainData, trainLabels),(testData,testLabels))=mnist.load_data()\n",
    "\n",
    "trainData=trainData.reshape((trainData.shape[0],28,28,1))\n",
    "testData=testData.reshape((testData.shape[0],28,28,1))\n",
    "\n",
    "trainData=trainData.astype(\"float32\")/255.0\n",
    "testData=testData.astype(\"float32\")/255.0\n",
    "\n",
    "print(trainData.shape)\n",
    "print(testData.shape)\n",
    "print(trainLabels.shape)\n",
    "print(testLabels.shape)\n",
    "\n",
    "numclass=10\n",
    "trainLabels=tf.keras.utils.to_categorical(trainLabels,num_classes=numclass)\n",
    "testLabels=tf.keras.utils.to_categorical(testLabels,num_classes=numclass)"
   ]
  },
  {
   "cell_type": "code",
   "execution_count": 15,
   "id": "4e47c91e-7f09-46e6-802f-4004991e995b",
   "metadata": {},
   "outputs": [
    {
     "name": "stdout",
     "output_type": "stream",
     "text": [
      "[INFO] compiling model...\n",
      "[INFO] training network...\n",
      "Epoch 1/10\n",
      "469/469 [==============================] - 3s 5ms/step - loss: 1.5859 - accuracy: 0.5354 - val_loss: 0.3151 - val_accuracy: 0.9078\n",
      "Epoch 2/10\n",
      "469/469 [==============================] - 2s 5ms/step - loss: 0.2810 - accuracy: 0.9161 - val_loss: 0.1963 - val_accuracy: 0.9435\n",
      "Epoch 3/10\n",
      "469/469 [==============================] - 2s 5ms/step - loss: 0.1921 - accuracy: 0.9434 - val_loss: 0.1464 - val_accuracy: 0.9558\n",
      "Epoch 4/10\n",
      "469/469 [==============================] - 2s 5ms/step - loss: 0.1484 - accuracy: 0.9560 - val_loss: 0.1244 - val_accuracy: 0.9639\n",
      "Epoch 5/10\n",
      "469/469 [==============================] - 2s 5ms/step - loss: 0.1212 - accuracy: 0.9637 - val_loss: 0.0925 - val_accuracy: 0.9735\n",
      "Epoch 6/10\n",
      "469/469 [==============================] - 2s 5ms/step - loss: 0.1027 - accuracy: 0.9705 - val_loss: 0.0878 - val_accuracy: 0.9733\n",
      "Epoch 7/10\n",
      "469/469 [==============================] - 2s 5ms/step - loss: 0.0932 - accuracy: 0.9727 - val_loss: 0.0768 - val_accuracy: 0.9755\n",
      "Epoch 8/10\n",
      "469/469 [==============================] - 2s 5ms/step - loss: 0.0815 - accuracy: 0.9757 - val_loss: 0.0675 - val_accuracy: 0.9789\n",
      "Epoch 9/10\n",
      "469/469 [==============================] - 2s 5ms/step - loss: 0.0720 - accuracy: 0.9782 - val_loss: 0.0738 - val_accuracy: 0.9762\n",
      "Epoch 10/10\n",
      "469/469 [==============================] - 2s 5ms/step - loss: 0.0666 - accuracy: 0.9800 - val_loss: 0.0626 - val_accuracy: 0.9797\n"
     ]
    }
   ],
   "source": [
    "# inisialize the optimizer and model\n",
    "print(\"[INFO] compiling model...\")\n",
    "opt=SGD(lr=0.01)\n",
    "model=LeNet.build(width=28,height=28,depth=1,classes=numclass)\n",
    "model.compile(loss=\"categorical_crossentropy\",optimizer=opt,metrics=[\"accuracy\"])\n",
    "\n",
    "# train the network\n",
    "print(\"[INFO] training network...\")\n",
    "H=model.fit(trainData,trainLabels,validation_data=(testData,testLabels),batch_size=128,epochs=10)"
   ]
  },
  {
   "cell_type": "code",
   "execution_count": 17,
   "id": "a5fd3eb4-fad3-411e-bc01-97925f701bac",
   "metadata": {},
   "outputs": [
    {
     "name": "stdout",
     "output_type": "stream",
     "text": [
      "[INFO] evaluating network...\n",
      "              precision    recall  f1-score   support\n",
      "\n",
      "           0       0.97      0.99      0.98       980\n",
      "           1       0.99      0.99      0.99      1135\n",
      "           2       0.98      0.98      0.98      1032\n",
      "           3       0.99      0.96      0.97      1010\n",
      "           4       0.98      0.99      0.99       982\n",
      "           5       0.96      0.99      0.97       892\n",
      "           6       0.99      0.97      0.98       958\n",
      "           7       0.99      0.97      0.98      1028\n",
      "           8       0.96      0.98      0.97       974\n",
      "           9       0.99      0.96      0.97      1009\n",
      "\n",
      "    accuracy                           0.98     10000\n",
      "   macro avg       0.98      0.98      0.98     10000\n",
      "weighted avg       0.98      0.98      0.98     10000\n",
      "\n"
     ]
    },
    {
     "data": {
      "image/png": "[encoded data removed]",
      "text/plain": [
       "<Figure size 432x288 with 1 Axes>"
      ]
     },
     "metadata": {},
     "output_type": "display_data"
    }
   ],
   "source": [
    "# evaluate the network\n",
    "print(\"[INFO] evaluating network...\")\n",
    "predictions=model.predict(testData,batch_size=128)\n",
    "\n",
    "cr=classification_report(testLabels.argmax(axis=1),predictions.argmax(axis=1),target_names=[str(x) for x in range(numclass)])\n",
    "print(cr)\n",
    "\n",
    "# plot the training loss and accuracy\n",
    "plt.style.use(\"ggplot\")\n",
    "plt.figure()\n",
    "plt.plot(np.arange(0,10),H.history[\"loss\"],label=\"train_loss\")\n",
    "plt.plot(np.arange(0,10),H.history[\"val_loss\"],label=\"val_loss\")\n",
    "plt.plot(np.arange(0,10),H.history[\"accuracy\"],label=\"train_acc\")\n",
    "plt.plot(np.arange(0,10),H.history[\"val_accuracy\"],label=\"val_acc\")\n",
    "plt.title(\"Training Loss and Accuracy\")\n",
    "plt.xlabel(\"Epoch #\")\n",
    "plt.ylabel(\"Loss/Accuracy\")\n",
    "plt.legend()\n",
    "plt.show()"
   ]
  },
  {
   "cell_type": "code",
   "execution_count": 18,
   "id": "245e890d-b415-485c-a5b2-5a2799ace597",
   "metadata": {},
   "outputs": [
    {
     "data": {
      "text/plain": [
       "[0.06256212294101715, 0.9797000288963318]"
      ]
     },
     "execution_count": 18,
     "metadata": {},
     "output_type": "execute_result"
    }
   ],
   "source": [
    "model.evaluate(testData,testLabels,verbose=0)"
   ]
  },
  {
   "cell_type": "code",
   "execution_count": 19,
   "id": "2aa91be7-65a6-42ab-9377-5e3f9b16c29a",
   "metadata": {},
   "outputs": [
    {
     "data": {
      "text/plain": [
       "{'status': 'ok', 'restart': True}"
      ]
     },
     "execution_count": 19,
     "metadata": {},
     "output_type": "execute_result"
    }
   ],
   "source": [
    "import IPython\n",
    "app = IPython.Application.instance()\n",
    "app.kernel.do_shutdown(True)"
   ]
  },
  {
   "cell_type": "code",
   "execution_count": null,
   "id": "5a0c0965-7d60-4a99-8e0e-570e0464cc7b",
   "metadata": {},
   "outputs": [],
   "source": []
  }
 ],
 "metadata": {
  "kernelspec": {
   "display_name": "Python 3 (ipykernel)",
   "language": "python",
   "name": "python3"
  },
  "language_info": {
   "codemirror_mode": {
    "name": "ipython",
    "version": 3
   },
   "file_extension": ".py",
   "mimetype": "text/x-python",
   "name": "python",
   "nbconvert_exporter": "python",
   "pygments_lexer": "ipython3",
   "version": "3.8.11"
  }
 },
 "nbformat": 4,
 "nbformat_minor": 5
}
