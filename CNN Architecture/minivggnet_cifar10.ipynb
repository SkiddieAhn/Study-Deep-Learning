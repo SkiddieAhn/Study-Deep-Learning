{
 "cells": [
  {
   "cell_type": "code",
   "execution_count": 1,
   "id": "51d01f25-4836-4baa-85c2-431479580590",
   "metadata": {},
   "outputs": [
    {
     "name": "stdout",
     "output_type": "stream",
     "text": [
      "1 Physical GPUs, 1 Logical GPUs\n"
     ]
    }
   ],
   "source": [
    "import tensorflow as tf\n",
    "gpus = tf.config.experimental.list_physical_devices('GPU')\n",
    "if gpus:\n",
    "    try: # Currently, memory growth needs to be the same across GPUs \n",
    "        for gpu in gpus:\n",
    "            tf.config.experimental.set_memory_growth(gpu, True)\n",
    "        logical_gpus = tf.config.experimental.list_logical_devices('GPU')\n",
    "        print(len(gpus), \"Physical GPUs,\", len(logical_gpus), \"Logical GPUs\")\n",
    "    except RuntimeError as e: # Memory growth must be set before GPUs have been initialized print(e)\n",
    "        print(e)"
   ]
  },
  {
   "cell_type": "code",
   "execution_count": 18,
   "id": "c4bc5e19-a6df-4991-b1df-8199fd8eabf0",
   "metadata": {},
   "outputs": [],
   "source": [
    "from sklearn.preprocessing import LabelBinarizer\n",
    "from sklearn.metrics import classification_report\n",
    "from minivggnet import MiniVGGNet\n",
    "from tensorflow.keras.preprocessing.image import ImageDataGenerator\n",
    "from tensorflow.keras.callbacks import LearningRateScheduler\n",
    "from tensorflow.keras.optimizers import SGD\n",
    "from tensorflow.keras.datasets import cifar10\n",
    "import matplotlib.pyplot as plt\n",
    "import numpy as np\n",
    "import os"
   ]
  },
  {
   "cell_type": "code",
   "execution_count": 10,
   "id": "3d6f6668-0730-4a4e-9a49-b9456b15e551",
   "metadata": {},
   "outputs": [
    {
     "name": "stdout",
     "output_type": "stream",
     "text": [
      "[INFO] accessing CIFAR-10 data...\n",
      "(50000, 32, 32, 3)\n",
      "(10000, 32, 32, 3)\n",
      "(50000, 10)\n",
      "(10000, 10)\n"
     ]
    }
   ],
   "source": [
    "print(\"[INFO] accessing CIFAR-10 data...\")\n",
    "((trainX, trainY),(testX,testY))=cifar10.load_data()\n",
    "\n",
    "trainX=trainX.astype(\"float\")/255.0\n",
    "testX=testX.astype(\"float\")/255.0\n",
    "\n",
    "print(trainX.shape)\n",
    "print(testX.shape)\n",
    "\n",
    "# convert the labels from integers to vectors\n",
    "lb=LabelBinarizer()\n",
    "trainY=lb.fit_transform(trainY)\n",
    "testY=lb.transform(testY)\n",
    "\n",
    "print(trainY.shape)\n",
    "print(testY.shape)\n",
    "\n",
    "# initialize the label names for the CIFAR-10 dataset\n",
    "labelNames=[\"airplane\",\"automobile\",\"bird\",\"cat\",\"deer\",\"dog\",\"frog\",\"horse\",\"ship\",\"truck\"]"
   ]
  },
  {
   "cell_type": "code",
   "execution_count": 11,
   "id": "cfeba2fb-5adf-4c22-a146-5e979f214d02",
   "metadata": {},
   "outputs": [
    {
     "name": "stdout",
     "output_type": "stream",
     "text": [
      "[INFO] compiling model...\n",
      "[INFO] training network...\n"
     ]
    }
   ],
   "source": [
    "# initialize the optimizer and model\n",
    "epoch_param=10\n",
    "print(\"[INFO] compiling model...\")\n",
    "INIT_LR=0.01\n",
    "opt=SGD(lr=INIT_LR,decay=0.01/epoch_param,momentum=0.9,nesterov=True)\n",
    "model=MiniVGGNet.build(width=32,height=32,depth=3,classes=10)\n",
    "model.compile(loss=\"categorical_crossentropy\",optimizer=opt,metrics=[\"accuracy\"])\n",
    "\n",
    "# train the network\n",
    "print(\"[INFO] training network...\")\n",
    "H=model.fit(trainX,trainY,validation_data=(testX,testY),batch_size=64,epochs=epoch_param,verbose=0)"
   ]
  },
  {
   "cell_type": "code",
   "execution_count": 19,
   "id": "37e8cd1c-65e9-48b0-ad40-2bc3ef337a2d",
   "metadata": {},
   "outputs": [
    {
     "name": "stdout",
     "output_type": "stream",
     "text": [
      "[INFO] evaluating network...\n",
      "              precision    recall  f1-score   support\n",
      "\n",
      "           0       0.83      0.77      0.80      1000\n",
      "           1       0.90      0.84      0.87      1000\n",
      "           2       0.72      0.57      0.64      1000\n",
      "           3       0.60      0.54      0.57      1000\n",
      "           4       0.66      0.76      0.71      1000\n",
      "           5       0.67      0.64      0.65      1000\n",
      "           6       0.68      0.91      0.78      1000\n",
      "           7       0.83      0.79      0.81      1000\n",
      "           8       0.87      0.87      0.87      1000\n",
      "           9       0.82      0.87      0.85      1000\n",
      "\n",
      "    accuracy                           0.76     10000\n",
      "   macro avg       0.76      0.76      0.75     10000\n",
      "weighted avg       0.76      0.76      0.75     10000\n",
      "\n"
     ]
    },
    {
     "data": {
      "image/png": "[encoded data removed]",
      "text/plain": [
       "<Figure size 432x288 with 1 Axes>"
      ]
     },
     "metadata": {},
     "output_type": "display_data"
    }
   ],
   "source": [
    "# evaluate the network\n",
    "print(\"[INFO] evaluating network...\")\n",
    "predictions=model.predict(testX,batch_size=64)\n",
    "cr=classification_report(testY.argmax(axis=1),predictions.argmax(axis=1),target_names=[str(x) for x in range(10)])\n",
    "print(cr)\n",
    "\n",
    "# plot the training loss and accuracy\n",
    "plt.style.use(\"ggplot\")\n",
    "plt.figure()\n",
    "plt.plot(np.arange(0,epoch_param),H.history[\"loss\"],label=\"train_loss\")\n",
    "plt.plot(np.arange(0,epoch_param),H.history[\"val_loss\"],label=\"val_loss\")\n",
    "plt.plot(np.arange(0,epoch_param),H.history[\"accuracy\"],label=\"train_acc\")\n",
    "plt.plot(np.arange(0,epoch_param),H.history[\"val_accuracy\"],label=\"val_acc\")\n",
    "plt.title(\"Training Loss and Accuracy\")\n",
    "plt.xlabel(\"Epoch #\")\n",
    "plt.ylabel(\"Loss/Accuracy\")\n",
    "plt.legend()\n",
    "plt.show()"
   ]
  },
  {
   "cell_type": "code",
   "execution_count": 21,
   "id": "687b60f6-4163-4163-b5fd-0dd25136b85a",
   "metadata": {},
   "outputs": [
    {
     "data": {
      "text/plain": [
       "[0.7122504115104675, 0.7559999823570251]"
      ]
     },
     "execution_count": 21,
     "metadata": {},
     "output_type": "execute_result"
    }
   ],
   "source": [
    "model.evaluate(testX,testY,verbose=0)"
   ]
  },
  {
   "cell_type": "code",
   "execution_count": 22,
   "id": "e9cfd73d-5301-4bce-9063-9634b49e4548",
   "metadata": {},
   "outputs": [
    {
     "data": {
      "text/plain": [
       "{'status': 'ok', 'restart': True}"
      ]
     },
     "execution_count": 22,
     "metadata": {},
     "output_type": "execute_result"
    }
   ],
   "source": [
    "import IPython\n",
    "app = IPython.Application.instance()\n",
    "app.kernel.do_shutdown(True)"
   ]
  },
  {
   "cell_type": "code",
   "execution_count": null,
   "id": "39db16d7-1b37-4482-8d29-c8fc0cb8ce85",
   "metadata": {},
   "outputs": [],
   "source": []
  }
 ],
 "metadata": {
  "kernelspec": {
   "display_name": "Python 3 (ipykernel)",
   "language": "python",
   "name": "python3"
  },
  "language_info": {
   "codemirror_mode": {
    "name": "ipython",
    "version": 3
   },
   "file_extension": ".py",
   "mimetype": "text/x-python",
   "name": "python",
   "nbconvert_exporter": "python",
   "pygments_lexer": "ipython3",
   "version": "3.8.11"
  }
 },
 "nbformat": 4,
 "nbformat_minor": 5
}
