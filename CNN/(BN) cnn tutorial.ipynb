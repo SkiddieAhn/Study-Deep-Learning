{
 "cells": [
  {
   "cell_type": "code",
   "execution_count": 1,
   "metadata": {},
   "outputs": [],
   "source": [
    "try:\n",
    "    %tensorflow_version 2.x\n",
    "except Exception:\n",
    "    pass\n",
    "\n",
    "import tensorflow as tf\n",
    "from tensorflow.keras.models import Sequential\n",
    "from tensorflow.keras.layers import *\n",
    "import matplotlib.pyplot as plt\n",
    "import numpy as np"
   ]
  },
  {
   "cell_type": "code",
   "execution_count": 2,
   "metadata": {},
   "outputs": [],
   "source": [
    "conv1=tf.keras.layers.Conv2D(kernel_size=(3,3),strides=(2,2),padding='valid',filters=16)"
   ]
  },
  {
   "cell_type": "code",
   "execution_count": 3,
   "metadata": {},
   "outputs": [],
   "source": [
    "pool1=tf.keras.layers.MaxPool2D(pool_size=(2,2),strides=(2,2))"
   ]
  },
  {
   "cell_type": "code",
   "execution_count": 4,
   "metadata": {},
   "outputs": [],
   "source": [
    "dropout=tf.keras.layers.Dropout(rate=0.3) # 30% 빼서 학습을 함 "
   ]
  },
  {
   "cell_type": "code",
   "execution_count": 5,
   "metadata": {},
   "outputs": [],
   "source": [
    "# batch normalization 생성 코드 \n",
    "bn_model=Sequential([\n",
    "    Dense(64,input_shape=(4,),activation='relu'),\n",
    "    BatchNormalization(),\n",
    "    Dense(128,activation='relu'),\n",
    "    Dense(3,activation='softmax')\n",
    "]);"
   ]
  },
  {
   "cell_type": "markdown",
   "metadata": {},
   "source": [
    "### mnist with cnn"
   ]
  },
  {
   "cell_type": "code",
   "execution_count": 6,
   "metadata": {},
   "outputs": [],
   "source": [
    "data=tf.keras.datasets.mnist\n",
    "(train_X,train_Y),(test_X,test_Y)=data.load_data()\n",
    "\n",
    "train_X=train_X/255.0\n",
    "test_X=test_X/255.0"
   ]
  },
  {
   "cell_type": "code",
   "execution_count": 7,
   "metadata": {},
   "outputs": [
    {
     "name": "stdout",
     "output_type": "stream",
     "text": [
      "(60000, 28, 28) (10000, 28, 28)\n",
      "(60000, 28, 28, 1) (10000, 28, 28, 1)\n"
     ]
    }
   ],
   "source": [
    "# 데이터를 4차원 텐서로 바꿔야 한다. (cnn에 쓰기 위해서)\n",
    "print(train_X.shape, test_X.shape)\n",
    "\n",
    "train_X=train_X.reshape(-1,28,28,1) # 데이터수,width,height,1\n",
    "test_X=test_X.reshape(-1,28,28,1)\n",
    "\n",
    "print(train_X.shape, test_X.shape)"
   ]
  },
  {
   "cell_type": "code",
   "execution_count": 8,
   "metadata": {},
   "outputs": [
    {
     "data": {
      "image/png": "[encoded data removed]",
      "text/plain": [
       "<Figure size 720x720 with 16 Axes>"
      ]
     },
     "metadata": {
      "needs_background": "light"
     },
     "output_type": "display_data"
    }
   ],
   "source": [
    "plt.figure(figsize=(10,10))\n",
    "for c in range(16):\n",
    "    plt.subplot(4,4,c+1)\n",
    "    plt.imshow(train_X[c].reshape(28,28),cmap='gray')\n",
    "plt.show()"
   ]
  },
  {
   "cell_type": "code",
   "execution_count": 9,
   "metadata": {},
   "outputs": [
    {
     "name": "stdout",
     "output_type": "stream",
     "text": [
      "[5 0 4 1 9 2 1 3 1 4 3 5 3 6 1 7]\n"
     ]
    }
   ],
   "source": [
    "print(train_Y[:16])"
   ]
  },
  {
   "cell_type": "code",
   "execution_count": 10,
   "metadata": {},
   "outputs": [
    {
     "name": "stdout",
     "output_type": "stream",
     "text": [
      "Model: \"sequential_1\"\n",
      "_________________________________________________________________\n",
      "Layer (type)                 Output Shape              Param #   \n",
      "=================================================================\n",
      "conv2d_1 (Conv2D)            (None, 26, 26, 16)        160       \n",
      "_________________________________________________________________\n",
      "conv2d_2 (Conv2D)            (None, 24, 24, 32)        4640      \n",
      "_________________________________________________________________\n",
      "conv2d_3 (Conv2D)            (None, 22, 22, 64)        18496     \n",
      "_________________________________________________________________\n",
      "flatten (Flatten)            (None, 30976)             0         \n",
      "_________________________________________________________________\n",
      "dense_3 (Dense)              (None, 128)               3965056   \n",
      "_________________________________________________________________\n",
      "dense_4 (Dense)              (None, 10)                1290      \n",
      "=================================================================\n",
      "Total params: 3,989,642\n",
      "Trainable params: 3,989,642\n",
      "Non-trainable params: 0\n",
      "_________________________________________________________________\n",
      "Epoch 1/25\n",
      "1407/1407 [==============================] - 11s 6ms/step - loss: 0.3200 - accuracy: 0.9025 - val_loss: 0.1250 - val_accuracy: 0.9632\n",
      "Epoch 2/25\n",
      "1407/1407 [==============================] - 7s 5ms/step - loss: 0.1046 - accuracy: 0.9673 - val_loss: 0.1256 - val_accuracy: 0.9629\n",
      "Epoch 3/25\n",
      "1407/1407 [==============================] - 7s 5ms/step - loss: 0.0706 - accuracy: 0.9776 - val_loss: 0.1104 - val_accuracy: 0.9699\n",
      "Epoch 4/25\n",
      "1407/1407 [==============================] - 7s 5ms/step - loss: 0.0487 - accuracy: 0.9842 - val_loss: 0.1398 - val_accuracy: 0.9667\n",
      "Epoch 5/25\n",
      "1407/1407 [==============================] - 7s 5ms/step - loss: 0.0508 - accuracy: 0.9842 - val_loss: 0.1388 - val_accuracy: 0.9646\n",
      "Epoch 6/25\n",
      "1407/1407 [==============================] - 7s 5ms/step - loss: 0.0362 - accuracy: 0.9894 - val_loss: 0.1600 - val_accuracy: 0.9664\n",
      "Epoch 7/25\n",
      "1407/1407 [==============================] - 7s 5ms/step - loss: 0.0372 - accuracy: 0.9888 - val_loss: 0.1750 - val_accuracy: 0.9617\n",
      "Epoch 8/25\n",
      "1407/1407 [==============================] - 7s 5ms/step - loss: 0.0260 - accuracy: 0.9917 - val_loss: 0.2074 - val_accuracy: 0.9665\n",
      "Epoch 9/25\n",
      "1407/1407 [==============================] - 8s 5ms/step - loss: 0.0296 - accuracy: 0.9906 - val_loss: 0.1881 - val_accuracy: 0.9709\n",
      "Epoch 10/25\n",
      "1407/1407 [==============================] - 8s 5ms/step - loss: 0.0267 - accuracy: 0.9927 - val_loss: 0.2045 - val_accuracy: 0.9644\n",
      "Epoch 11/25\n",
      "1407/1407 [==============================] - 7s 5ms/step - loss: 0.0144 - accuracy: 0.9955 - val_loss: 0.2191 - val_accuracy: 0.9654\n",
      "Epoch 12/25\n",
      "1407/1407 [==============================] - 7s 5ms/step - loss: 0.0352 - accuracy: 0.9912 - val_loss: 0.2431 - val_accuracy: 0.9672\n",
      "Epoch 13/25\n",
      "1407/1407 [==============================] - 7s 5ms/step - loss: 0.0198 - accuracy: 0.9943 - val_loss: 0.2408 - val_accuracy: 0.9679\n",
      "Epoch 14/25\n",
      "1407/1407 [==============================] - 7s 5ms/step - loss: 0.0315 - accuracy: 0.9923 - val_loss: 0.3248 - val_accuracy: 0.9626\n",
      "Epoch 15/25\n",
      "1407/1407 [==============================] - 7s 5ms/step - loss: 0.0185 - accuracy: 0.9949 - val_loss: 0.2818 - val_accuracy: 0.9650\n",
      "Epoch 16/25\n",
      "1407/1407 [==============================] - 7s 5ms/step - loss: 0.0216 - accuracy: 0.9956 - val_loss: 0.3849 - val_accuracy: 0.9647\n",
      "Epoch 17/25\n",
      "1407/1407 [==============================] - 8s 5ms/step - loss: 0.0165 - accuracy: 0.9961 - val_loss: 0.3102 - val_accuracy: 0.9680\n",
      "Epoch 18/25\n",
      "1407/1407 [==============================] - 8s 5ms/step - loss: 0.0167 - accuracy: 0.9956 - val_loss: 0.3722 - val_accuracy: 0.9641\n",
      "Epoch 19/25\n",
      "1407/1407 [==============================] - 7s 5ms/step - loss: 0.0227 - accuracy: 0.9944 - val_loss: 0.4893 - val_accuracy: 0.9651\n",
      "Epoch 20/25\n",
      "1407/1407 [==============================] - 8s 5ms/step - loss: 0.0377 - accuracy: 0.9943 - val_loss: 0.3321 - val_accuracy: 0.9686\n",
      "Epoch 21/25\n",
      "1407/1407 [==============================] - 7s 5ms/step - loss: 0.0235 - accuracy: 0.9962 - val_loss: 0.5761 - val_accuracy: 0.9673\n",
      "Epoch 22/25\n",
      "1407/1407 [==============================] - 7s 5ms/step - loss: 0.0341 - accuracy: 0.9947 - val_loss: 0.4884 - val_accuracy: 0.9632\n",
      "Epoch 23/25\n",
      "1407/1407 [==============================] - 7s 5ms/step - loss: 0.0188 - accuracy: 0.9964 - val_loss: 0.4637 - val_accuracy: 0.9679\n",
      "Epoch 24/25\n",
      "1407/1407 [==============================] - 7s 5ms/step - loss: 0.0399 - accuracy: 0.9933 - val_loss: 0.4308 - val_accuracy: 0.9695\n",
      "Epoch 25/25\n",
      "1407/1407 [==============================] - 8s 5ms/step - loss: 0.0299 - accuracy: 0.9943 - val_loss: 0.5255 - val_accuracy: 0.9669\n"
     ]
    }
   ],
   "source": [
    "train_Y=tf.keras.utils.to_categorical(train_Y,num_classes=10)\n",
    "test_Y=tf.keras.utils.to_categorical(test_Y,num_classes=10)\n",
    "\n",
    "model=tf.keras.Sequential([\n",
    "    tf.keras.layers.Conv2D(input_shape=(28,28,1),kernel_size=(3,3),filters=16),\n",
    "    tf.keras.layers.Conv2D(kernel_size=(3,3),filters=32),\n",
    "    tf.keras.layers.Conv2D(kernel_size=(3,3),filters=64),\n",
    "    tf.keras.layers.Flatten(),\n",
    "    tf.keras.layers.Dense(units=128,activation='relu'),\n",
    "    tf.keras.layers.Dense(units=10,activation='softmax')\n",
    "])\n",
    "\n",
    "model.compile(optimizer=tf.keras.optimizers.Adam(),\n",
    "             loss='categorical_crossentropy',metrics=['accuracy'])\n",
    "model.summary()\n",
    "history=model.fit(train_X,train_Y,epochs=25,validation_split=0.25)"
   ]
  },
  {
   "cell_type": "code",
   "execution_count": null,
   "metadata": {},
   "outputs": [],
   "source": []
  }
 ],
 "metadata": {
  "kernelspec": {
   "display_name": "Python 3 (ipykernel)",
   "language": "python",
   "name": "python3"
  },
  "language_info": {
   "codemirror_mode": {
    "name": "ipython",
    "version": 3
   },
   "file_extension": ".py",
   "mimetype": "text/x-python",
   "name": "python",
   "nbconvert_exporter": "python",
   "pygments_lexer": "ipython3",
   "version": "3.8.11"
  }
 },
 "nbformat": 4,
 "nbformat_minor": 4
}
