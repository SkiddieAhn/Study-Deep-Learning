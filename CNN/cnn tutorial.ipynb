{
 "cells": [
  {
   "cell_type": "markdown",
   "id": "0881f4d2-b02d-4445-8d13-594e29e32256",
   "metadata": {},
   "source": [
    "##  MNIST 필기체 숫자 인식 (CNN)"
   ]
  },
  {
   "cell_type": "markdown",
   "id": "cbc1aabd-fe06-4337-9dcc-3bf747302a89",
   "metadata": {},
   "source": [
    "#### 전처리 (For.GPU)"
   ]
  },
  {
   "cell_type": "code",
   "execution_count": 1,
   "id": "1f85a24d-902f-4d3d-828a-91685c6c46bc",
   "metadata": {},
   "outputs": [
    {
     "name": "stdout",
     "output_type": "stream",
     "text": [
      "1 Physical GPUs, 1 Logical GPUs\n"
     ]
    }
   ],
   "source": [
    "import tensorflow as tf\n",
    "gpus = tf.config.experimental.list_physical_devices('GPU')\n",
    "if gpus:\n",
    "    try: # Currently, memory growth needs to be the same across GPUs \n",
    "        for gpu in gpus:\n",
    "            tf.config.experimental.set_memory_growth(gpu, True)\n",
    "        logical_gpus = tf.config.experimental.list_logical_devices('GPU')\n",
    "        print(len(gpus), \"Physical GPUs,\", len(logical_gpus), \"Logical GPUs\")\n",
    "    except RuntimeError as e: # Memory growth must be set before GPUs have been initialized print(e)\n",
    "        print(e)"
   ]
  },
  {
   "cell_type": "markdown",
   "id": "6e15f4b2-f3c1-4725-b583-5da36be574f0",
   "metadata": {},
   "source": [
    "#### 전처리"
   ]
  },
  {
   "cell_type": "code",
   "execution_count": 2,
   "id": "78bcf04e-d564-462c-86bf-bed55b994703",
   "metadata": {},
   "outputs": [],
   "source": [
    "import tensorflow as tf\n",
    "from tensorflow.keras import datasets, layers,models\n",
    "\n",
    "(train_images, train_labels), (test_images, test_labels) = datasets.mnist.load_data()\n",
    "train_images = train_images.reshape((60000,28,28,1))\n",
    "test_images=test_images.reshape((10000,28,28,1))\n",
    "\n",
    "# 픽셀 값을 0~1 사이로 정규화한다.\n",
    "train_images, test_images = train_images / 255.0, test_images / 255.0"
   ]
  },
  {
   "cell_type": "markdown",
   "id": "615ff4e8-2674-456d-8cfe-26dc23da10cd",
   "metadata": {},
   "source": [
    "#### 컨볼루션 신경망 생성"
   ]
  },
  {
   "cell_type": "code",
   "execution_count": 3,
   "id": "329bc845-2830-4c01-ac42-141e0e0171a0",
   "metadata": {},
   "outputs": [],
   "source": [
    "model=models.Sequential()\n",
    "# 컨볼루션 + 풀링 (특징 추출기-영상에서 edge따위의 특징을 찾아냄)\n",
    "model.add(layers.Conv2D(32,(3,3),activation='relu',input_shape=(28,28,1))) # 32개의 커널로 32개의 특징을 찾아냄, 3x3크기의 커널, relu, 입력: 28x28x1\n",
    "model.add(layers.MaxPooling2D((2,2))) # 풀링 윈도우의 크기는 2x2, 보폭은 1x1, padding은 valid\n",
    "model.add(layers.Conv2D(64,(3,3),activation='relu'))\n",
    "model.add(layers.MaxPooling2D((2,2)))\n",
    "model.add(layers.Conv2D(64,(3,3),activation='relu')) # 출력은 (4,4,64)의 텐서 \n",
    "\n",
    "# 완전 연결 신경망 (특징 분류기-특징이 담긴 1차원 텐서들을 보고 분류 작업을 함 <분류에 가장 적합한 함수 찾기>)\n",
    "model.add(layers.Flatten()) # Dense layer는 1차원 텐서를 입력 받음 \n",
    "model.add(layers.Dense(64, activation='relu')) \n",
    "model.add(layers.Dense(10,activation='softmax')) # 0~9 분류 "
   ]
  },
  {
   "cell_type": "code",
   "execution_count": 4,
   "id": "8e65fc6f-7eb0-4bc4-8dde-9769d0420656",
   "metadata": {},
   "outputs": [
    {
     "name": "stdout",
     "output_type": "stream",
     "text": [
      "Model: \"sequential\"\n",
      "_________________________________________________________________\n",
      "Layer (type)                 Output Shape              Param #   \n",
      "=================================================================\n",
      "conv2d (Conv2D)              (None, 26, 26, 32)        320       \n",
      "_________________________________________________________________\n",
      "max_pooling2d (MaxPooling2D) (None, 13, 13, 32)        0         \n",
      "_________________________________________________________________\n",
      "conv2d_1 (Conv2D)            (None, 11, 11, 64)        18496     \n",
      "_________________________________________________________________\n",
      "max_pooling2d_1 (MaxPooling2 (None, 5, 5, 64)          0         \n",
      "_________________________________________________________________\n",
      "conv2d_2 (Conv2D)            (None, 3, 3, 64)          36928     \n",
      "_________________________________________________________________\n",
      "flatten (Flatten)            (None, 576)               0         \n",
      "_________________________________________________________________\n",
      "dense (Dense)                (None, 64)                36928     \n",
      "_________________________________________________________________\n",
      "dense_1 (Dense)              (None, 10)                650       \n",
      "=================================================================\n",
      "Total params: 93,322\n",
      "Trainable params: 93,322\n",
      "Non-trainable params: 0\n",
      "_________________________________________________________________\n"
     ]
    }
   ],
   "source": [
    "model.summary()"
   ]
  },
  {
   "cell_type": "markdown",
   "id": "098e130f-b8d2-46eb-bbdb-e3dd7e916555",
   "metadata": {},
   "source": [
    "#### 컴파일과 훈련"
   ]
  },
  {
   "cell_type": "code",
   "execution_count": 5,
   "id": "172317ce-0810-4a24-b597-ea3b330a9596",
   "metadata": {},
   "outputs": [
    {
     "name": "stdout",
     "output_type": "stream",
     "text": [
      "Epoch 1/5\n",
      "1875/1875 [==============================] - 3s 1ms/step - loss: 0.3408 - accuracy: 0.8905\n",
      "Epoch 2/5\n",
      "1875/1875 [==============================] - 2s 1ms/step - loss: 0.0489 - accuracy: 0.9840\n",
      "Epoch 3/5\n",
      "1875/1875 [==============================] - 2s 1ms/step - loss: 0.0324 - accuracy: 0.9895\n",
      "Epoch 4/5\n",
      "1875/1875 [==============================] - 2s 1ms/step - loss: 0.0249 - accuracy: 0.9921\n",
      "Epoch 5/5\n",
      "1875/1875 [==============================] - 2s 1ms/step - loss: 0.0194 - accuracy: 0.9935\n"
     ]
    },
    {
     "data": {
      "text/plain": [
       "<tensorflow.python.keras.callbacks.History at 0x7f7b98348690>"
      ]
     },
     "execution_count": 5,
     "metadata": {},
     "output_type": "execute_result"
    }
   ],
   "source": [
    "model.compile(optimizer='adam', loss='sparse_categorical_crossentropy', metrics=['accuracy'])\n",
    "model.fit(train_images,train_labels,epochs=5)"
   ]
  },
  {
   "cell_type": "markdown",
   "id": "762bf3cd-ced2-4f71-9a2b-c3686f0d40bd",
   "metadata": {},
   "source": [
    "#### 예측"
   ]
  },
  {
   "cell_type": "code",
   "execution_count": 14,
   "id": "c3ff8d2a-cd5b-438d-877c-a697dcc067fc",
   "metadata": {},
   "outputs": [
    {
     "name": "stdout",
     "output_type": "stream",
     "text": [
      "[2.8383488e-11 7.9138784e-09 5.6943064e-09 1.1837473e-09 6.1226775e-09\n",
      " 1.0715828e-09 3.7764537e-14 1.0000000e+00 3.9392317e-10 6.6398442e-09] 7\n"
     ]
    }
   ],
   "source": [
    "print(model.predict(test_images)[0],test_labels[0])"
   ]
  },
  {
   "cell_type": "code",
   "execution_count": null,
   "id": "ab7c4bd9-0ce1-437b-952f-dc6a35b01539",
   "metadata": {},
   "outputs": [],
   "source": []
  }
 ],
 "metadata": {
  "kernelspec": {
   "display_name": "Python 3",
   "language": "python",
   "name": "python3"
  },
  "language_info": {
   "codemirror_mode": {
    "name": "ipython",
    "version": 3
   },
   "file_extension": ".py",
   "mimetype": "text/x-python",
   "name": "python",
   "nbconvert_exporter": "python",
   "pygments_lexer": "ipython3",
   "version": "3.7.11"
  }
 },
 "nbformat": 4,
 "nbformat_minor": 5
}
