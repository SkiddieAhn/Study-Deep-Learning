{
 "cells": [
  {
   "cell_type": "code",
   "execution_count": 12,
   "id": "909e285c-7356-4a2d-aa99-4b95b4472b32",
   "metadata": {},
   "outputs": [],
   "source": [
    "import warnings\n",
    "warnings.filterwarnings('ignore')\n",
    "\n",
    "try:\n",
    "    %tensorflow_version 2.x\n",
    "except Exception:\n",
    "    pass\n",
    "\n",
    "import tensorflow as tf\n",
    "import matplotlib.pyplot as plt\n",
    "import numpy as np\n",
    "from tensorflow.keras.preprocessing.image import ImageDataGenerator\n",
    "import os"
   ]
  },
  {
   "cell_type": "code",
   "execution_count": 13,
   "id": "f1c17702-c00a-40d5-b9ac-3715269bc370",
   "metadata": {},
   "outputs": [],
   "source": [
    "# path 지정 \n",
    "train_dir='./lions_and_tigers/train'\n",
    "train_lions_dir=os.path.join(train_dir,'lion')\n",
    "train_tigers_dir=os.path.join(train_dir,'tiger')\n",
    "\n",
    "test_dir='./lions_and_tigers/test'\n",
    "test_lions_dir=os.path.join(test_dir,'lion')\n",
    "test_tigers_dir=os.path.join(test_dir,'tiger')\n",
    "\n",
    "val_dir='./lions_and_tigers/test'\n",
    "val_lions_dir=os.path.join(val_dir,'lion')\n",
    "val_tigers_dir=os.path.join(val_dir,'tiger')"
   ]
  },
  {
   "cell_type": "code",
   "execution_count": 14,
   "id": "8ab1e4c8-6594-426d-872e-8e7bfb3a47c1",
   "metadata": {},
   "outputs": [
    {
     "name": "stdout",
     "output_type": "stream",
     "text": [
      "Found 360 images belonging to 2 classes.\n",
      "Found 40 images belonging to 2 classes.\n",
      "Found 40 images belonging to 2 classes.\n"
     ]
    }
   ],
   "source": [
    "# 데이터 전처리 (증대x, 원본 데이터에 약간 변화를 줘서 다양성을 늘림)\n",
    "train_datagen=ImageDataGenerator(rescale=1./255, # 값을 0~1사이로 바꿈(min-max scaler)\n",
    "                                shear_range=0.2, # 찌그러트림\n",
    "                                zoom_range=0.2,\n",
    "                                horizontal_flip=True) # 수평 방향으로 flip하는가 \n",
    "# 테스트 데이터에 변화를 줄 필요 없음 (리스케일만 함)\n",
    "test_datagen=ImageDataGenerator(rescale=1./255)\n",
    "\n",
    "# flow_from_directory: 디렉토리로부터 파일 가져오기 \n",
    "train_generator=train_datagen.flow_from_directory(train_dir,\n",
    "                                                target_size=(150,150),\n",
    "                                                batch_size=20, # 20개씩 가져옴 \n",
    "                                                class_mode='binary')\n",
    "\n",
    "validation_generator=train_datagen.flow_from_directory(val_dir,\n",
    "                                                target_size=(150,150),\n",
    "                                                batch_size=20,\n",
    "                                                class_mode='binary')\n",
    "\n",
    "test_generator=test_datagen.flow_from_directory(test_dir,\n",
    "                                                target_size=(150,150),\n",
    "                                                batch_size=20,\n",
    "                                                class_mode='binary')"
   ]
  },
  {
   "cell_type": "code",
   "execution_count": 15,
   "id": "f4c2ff34-de94-4d92-a20a-f70b6e9afecd",
   "metadata": {},
   "outputs": [
    {
     "name": "stdout",
     "output_type": "stream",
     "text": [
      "배치 데이터 크기: (20, 150, 150, 3)\n",
      "배치 레이블 크기: (20,)\n"
     ]
    }
   ],
   "source": [
    "for data_batch, labels_batch in train_generator:\n",
    "    print('배치 데이터 크기:', data_batch.shape)\n",
    "    print('배치 레이블 크기:',labels_batch.shape)\n",
    "    break"
   ]
  },
  {
   "cell_type": "code",
   "execution_count": 16,
   "id": "623eb781-a4cf-4188-a329-57eff70c9cf2",
   "metadata": {},
   "outputs": [
    {
     "name": "stdout",
     "output_type": "stream",
     "text": [
      "Model: \"sequential_2\"\n",
      "_________________________________________________________________\n",
      "Layer (type)                 Output Shape              Param #   \n",
      "=================================================================\n",
      "conv2d_6 (Conv2D)            (None, 148, 148, 32)      896       \n",
      "_________________________________________________________________\n",
      "max_pooling2d_4 (MaxPooling2 (None, 74, 74, 32)        0         \n",
      "_________________________________________________________________\n",
      "conv2d_7 (Conv2D)            (None, 72, 72, 64)        18496     \n",
      "_________________________________________________________________\n",
      "max_pooling2d_5 (MaxPooling2 (None, 36, 36, 64)        0         \n",
      "_________________________________________________________________\n",
      "conv2d_8 (Conv2D)            (None, 34, 34, 128)       73856     \n",
      "_________________________________________________________________\n",
      "flatten_2 (Flatten)          (None, 147968)            0         \n",
      "_________________________________________________________________\n",
      "dense_4 (Dense)              (None, 128)               18940032  \n",
      "_________________________________________________________________\n",
      "dropout_2 (Dropout)          (None, 128)               0         \n",
      "_________________________________________________________________\n",
      "dense_5 (Dense)              (None, 1)                 129       \n",
      "=================================================================\n",
      "Total params: 19,033,409\n",
      "Trainable params: 19,033,409\n",
      "Non-trainable params: 0\n",
      "_________________________________________________________________\n",
      "Epoch 1/5\n",
      "18/18 [==============================] - 3s 131ms/step - loss: 6.7384 - accuracy: 0.4976 - val_loss: 2.5067 - val_accuracy: 0.5000\n",
      "Epoch 2/5\n",
      "18/18 [==============================] - 2s 118ms/step - loss: 1.2132 - accuracy: 0.5188 - val_loss: 0.7337 - val_accuracy: 0.5000\n",
      "Epoch 3/5\n",
      "18/18 [==============================] - 2s 118ms/step - loss: 0.6978 - accuracy: 0.5456 - val_loss: 0.6933 - val_accuracy: 0.5000\n",
      "Epoch 4/5\n",
      "18/18 [==============================] - 2s 118ms/step - loss: 0.6936 - accuracy: 0.4965 - val_loss: 0.6931 - val_accuracy: 0.5000\n",
      "Epoch 5/5\n",
      "18/18 [==============================] - 2s 117ms/step - loss: 0.6931 - accuracy: 0.5120 - val_loss: 0.6931 - val_accuracy: 0.5000\n"
     ]
    }
   ],
   "source": [
    "model=tf.keras.Sequential([\n",
    "    tf.keras.layers.Conv2D(input_shape=(150,150,3),kernel_size=(3,3),filters=32),\n",
    "    tf.keras.layers.MaxPool2D(strides=(2,2)),\n",
    "    tf.keras.layers.Conv2D(kernel_size=(3,3),filters=64),\n",
    "    tf.keras.layers.MaxPool2D(strides=(2,2)),\n",
    "    tf.keras.layers.Conv2D(kernel_size=(3,3),filters=128),\n",
    "    tf.keras.layers.Flatten(),\n",
    "    tf.keras.layers.Dense(units=128,activation='relu'),\n",
    "    tf.keras.layers.Dropout(rate=0.3),\n",
    "    tf.keras.layers.Dense(units=1,activation='sigmoid')\n",
    "])\n",
    "\n",
    "model.compile(optimizer=tf.keras.optimizers.Adam(), loss='binary_crossentropy',\n",
    "             metrics=['accuracy'])\n",
    "model.summary()\n",
    "# 1 epoch당 18번(train_size:360//batch_size:20)번 step, 2step(val_size:40//batch_size:20)당 1번 검증 -> 1 epoch당 18번 step, 9번 검증 \n",
    "history=model.fit(train_generator,steps_per_epoch=360//20, epochs=5,\n",
    "                 validation_data=validation_generator,validation_steps=40//20) "
   ]
  },
  {
   "cell_type": "code",
   "execution_count": 17,
   "id": "8ef9e278-39ab-41fa-9537-3fe6ab0b0ef6",
   "metadata": {},
   "outputs": [
    {
     "data": {
      "text/plain": [
       "[0.6931479573249817, 0.5]"
      ]
     },
     "execution_count": 17,
     "metadata": {},
     "output_type": "execute_result"
    }
   ],
   "source": [
    "model.evaluate(test_generator,verbose=0)"
   ]
  },
  {
   "cell_type": "code",
   "execution_count": null,
   "id": "0bba20b1-07fe-4bf3-8528-63825166a146",
   "metadata": {},
   "outputs": [],
   "source": []
  }
 ],
 "metadata": {
  "kernelspec": {
   "display_name": "DL",
   "language": "python",
   "name": "dl"
  },
  "language_info": {
   "codemirror_mode": {
    "name": "ipython",
    "version": 3
   },
   "file_extension": ".py",
   "mimetype": "text/x-python",
   "name": "python",
   "nbconvert_exporter": "python",
   "pygments_lexer": "ipython3",
   "version": "3.8.11"
  }
 },
 "nbformat": 4,
 "nbformat_minor": 5
}
