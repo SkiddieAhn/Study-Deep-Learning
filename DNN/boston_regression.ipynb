{
 "cells": [
  {
   "cell_type": "code",
   "execution_count": 1,
   "id": "eb7b2cae-adf1-470d-8071-700913e291a7",
   "metadata": {},
   "outputs": [
    {
     "name": "stdout",
     "output_type": "stream",
     "text": [
      "1 Physical GPUs, 1 Logical GPUs\n"
     ]
    }
   ],
   "source": [
    "import tensorflow as tf\n",
    "gpus = tf.config.experimental.list_physical_devices('GPU')\n",
    "if gpus:\n",
    "    try: # Currently, memory growth needs to be the same across GPUs \n",
    "        for gpu in gpus:\n",
    "            tf.config.experimental.set_memory_growth(gpu, True)\n",
    "        logical_gpus = tf.config.experimental.list_logical_devices('GPU')\n",
    "        print(len(gpus), \"Physical GPUs,\", len(logical_gpus), \"Logical GPUs\")\n",
    "    except RuntimeError as e: # Memory growth must be set before GPUs have been initialized print(e)\n",
    "        print(e)"
   ]
  },
  {
   "cell_type": "code",
   "execution_count": 2,
   "id": "945a73a1-b39e-4976-87a4-661eb7a80c6a",
   "metadata": {},
   "outputs": [],
   "source": [
    "import numpy as np\n",
    "import matplotlib.pyplot as plt\n",
    "import tensorflow as tf\n",
    "from tensorflow.keras.datasets import boston_housing"
   ]
  },
  {
   "cell_type": "code",
   "execution_count": 3,
   "id": "f37acd4c-b61b-49d8-9d5f-c9ef95b00b26",
   "metadata": {},
   "outputs": [
    {
     "name": "stdout",
     "output_type": "stream",
     "text": [
      "404 102\n",
      "[  1.23247   0.        8.14      0.        0.538     6.142    91.7\n",
      "   3.9769    4.      307.       21.      396.9      18.72   ]\n",
      "15.2\n"
     ]
    }
   ],
   "source": [
    "# 데이터 불러오기\n",
    "(train_X,train_Y),(test_X,test_Y)=boston_housing.load_data()\n",
    "print(len(train_X),len(test_X))\n",
    "print(train_X[0])\n",
    "print(train_Y[0])"
   ]
  },
  {
   "cell_type": "code",
   "execution_count": 4,
   "id": "b462db31-cc50-49f2-8f8a-957bd848b25e",
   "metadata": {},
   "outputs": [
    {
     "name": "stdout",
     "output_type": "stream",
     "text": [
      "[-0.27224633 -0.48361547 -0.43576161 -0.25683275 -0.1652266  -0.1764426\n",
      "  0.81306188  0.1166983  -0.62624905 -0.59517003  1.14850044  0.44807713\n",
      "  0.8252202 ]\n",
      "-0.7821526033779157\n"
     ]
    }
   ],
   "source": [
    "# 데이터 전처리 (정규화) - 평균을 0, 표준편차를 1\n",
    "x_mean=train_X.mean(axis=0)\n",
    "x_std=train_X.std(axis=0)\n",
    "train_X-=x_mean\n",
    "train_X /=x_std\n",
    "test_X -= x_mean\n",
    "test_X /= x_std\n",
    "\n",
    "y_mean=train_Y.mean(axis=0)\n",
    "y_std=train_Y.std(axis=0)\n",
    "train_Y-=y_mean\n",
    "train_Y /=y_std\n",
    "test_Y -= y_mean\n",
    "test_Y /= y_std\n",
    "\n",
    "print(train_X[0])\n",
    "print(train_Y[0])"
   ]
  },
  {
   "cell_type": "code",
   "execution_count": 5,
   "id": "5253a834-5b29-4456-9236-1d832fc8b0cc",
   "metadata": {},
   "outputs": [
    {
     "name": "stdout",
     "output_type": "stream",
     "text": [
      "Model: \"sequential\"\n",
      "_________________________________________________________________\n",
      "Layer (type)                 Output Shape              Param #   \n",
      "=================================================================\n",
      "dense (Dense)                (None, 52)                728       \n",
      "_________________________________________________________________\n",
      "dense_1 (Dense)              (None, 39)                2067      \n",
      "_________________________________________________________________\n",
      "dense_2 (Dense)              (None, 26)                1040      \n",
      "_________________________________________________________________\n",
      "dense_3 (Dense)              (None, 1)                 27        \n",
      "=================================================================\n",
      "Total params: 3,862\n",
      "Trainable params: 3,862\n",
      "Non-trainable params: 0\n",
      "_________________________________________________________________\n",
      "Epoch 1/25\n",
      "10/10 [==============================] - 2s 108ms/step - loss: 2.8046 - val_loss: 0.8600\n",
      "Epoch 2/25\n",
      "10/10 [==============================] - 0s 6ms/step - loss: 0.5507 - val_loss: 0.5094\n",
      "Epoch 3/25\n",
      "10/10 [==============================] - 0s 6ms/step - loss: 0.3308 - val_loss: 0.6501\n",
      "Epoch 4/25\n",
      "10/10 [==============================] - 0s 6ms/step - loss: 0.3878 - val_loss: 0.4989\n",
      "Epoch 5/25\n",
      "10/10 [==============================] - 0s 6ms/step - loss: 0.2883 - val_loss: 0.3822\n",
      "Epoch 6/25\n",
      "10/10 [==============================] - 0s 6ms/step - loss: 0.1947 - val_loss: 0.3045\n",
      "Epoch 7/25\n",
      "10/10 [==============================] - 0s 5ms/step - loss: 0.1712 - val_loss: 0.4004\n",
      "Epoch 8/25\n",
      "10/10 [==============================] - 0s 6ms/step - loss: 0.1700 - val_loss: 0.2488\n",
      "Epoch 9/25\n",
      "10/10 [==============================] - 0s 5ms/step - loss: 0.2317 - val_loss: 0.2242\n",
      "Epoch 10/25\n",
      "10/10 [==============================] - 0s 6ms/step - loss: 0.1550 - val_loss: 0.2726\n",
      "Epoch 11/25\n",
      "10/10 [==============================] - 0s 6ms/step - loss: 0.2532 - val_loss: 0.1598\n",
      "Epoch 12/25\n",
      "10/10 [==============================] - 0s 6ms/step - loss: 0.1340 - val_loss: 0.2429\n",
      "Epoch 13/25\n",
      "10/10 [==============================] - 0s 6ms/step - loss: 0.2263 - val_loss: 0.2071\n",
      "Epoch 14/25\n",
      "10/10 [==============================] - 0s 6ms/step - loss: 0.2128 - val_loss: 0.1742\n",
      "Epoch 15/25\n",
      "10/10 [==============================] - 0s 5ms/step - loss: 0.1853 - val_loss: 0.1757\n",
      "Epoch 16/25\n",
      "10/10 [==============================] - 0s 6ms/step - loss: 0.1294 - val_loss: 0.2465\n",
      "Epoch 17/25\n",
      "10/10 [==============================] - 0s 5ms/step - loss: 0.1169 - val_loss: 0.1830\n",
      "Epoch 18/25\n",
      "10/10 [==============================] - 0s 6ms/step - loss: 0.1091 - val_loss: 0.2289\n",
      "Epoch 19/25\n",
      "10/10 [==============================] - 0s 6ms/step - loss: 0.1390 - val_loss: 0.1855\n",
      "Epoch 20/25\n",
      "10/10 [==============================] - 0s 6ms/step - loss: 0.1244 - val_loss: 0.1326\n",
      "Epoch 21/25\n",
      "10/10 [==============================] - 0s 6ms/step - loss: 0.1027 - val_loss: 0.1298\n",
      "Epoch 22/25\n",
      "10/10 [==============================] - 0s 6ms/step - loss: 0.0957 - val_loss: 0.1540\n",
      "Epoch 23/25\n",
      "10/10 [==============================] - 0s 5ms/step - loss: 0.0881 - val_loss: 0.1647\n",
      "Epoch 24/25\n",
      "10/10 [==============================] - 0s 6ms/step - loss: 0.0931 - val_loss: 0.1571\n",
      "Epoch 25/25\n",
      "10/10 [==============================] - 0s 6ms/step - loss: 0.0977 - val_loss: 0.1354\n"
     ]
    }
   ],
   "source": [
    "# Boston Housing Dataset 회귀 모델 생성\n",
    "tf.random.set_seed(0)\n",
    "model=tf.keras.Sequential([\n",
    "    tf.keras.layers.Dense(units=52,activation='relu',input_shape=(13,)),\n",
    "    tf.keras.layers.Dense(units=39,activation='relu'),\n",
    "    tf.keras.layers.Dense(units=26,activation='relu'),\n",
    "    tf.keras.layers.Dense(units=1)\n",
    "])\n",
    "model.compile(optimizer=tf.keras.optimizers.Adam(lr=0.07),loss='mse')\n",
    "model.summary()\n",
    "history=model.fit(train_X,train_Y,epochs=25,batch_size=32,validation_split=0.25)"
   ]
  },
  {
   "cell_type": "code",
   "execution_count": 11,
   "id": "b9b226c1-3f59-4505-a40c-0c3f035f3b7a",
   "metadata": {},
   "outputs": [
    {
     "name": "stdout",
     "output_type": "stream",
     "text": [
      "['loss']\n",
      "4/4 [==============================] - 0s 2ms/step - loss: 0.2609\n"
     ]
    },
    {
     "data": {
      "text/plain": [
       "(-1.825740279496296,\n",
       " 3.0008527225512145,\n",
       " -1.825740279496296,\n",
       " 3.0008527225512145)"
      ]
     },
     "execution_count": 11,
     "metadata": {},
     "output_type": "execute_result"
    },
    {
     "data": {
      "image/png": "[encoded data removed]",
      "text/plain": [
       "<Figure size 360x360 with 1 Axes>"
      ]
     },
     "metadata": {
      "needs_background": "light"
     },
     "output_type": "display_data"
    }
   ],
   "source": [
    "# 회귀 모델 평가\n",
    "print(model.metrics_names)\n",
    "model.evaluate(test_X,test_Y)\n",
    "\n",
    "# 실제 주택 가격과 예측 주택 가격 시각화\n",
    "pred_Y=model.predict(test_X)\n",
    "\n",
    "plt.figure(figsize=(5,5))\n",
    "plt.plot(test_Y,pred_Y,'b.')\n",
    "plt.axis([min(test_Y),max(test_Y),min(test_Y),max(test_Y)]) # 축 범위 설정 "
   ]
  },
  {
   "cell_type": "code",
   "execution_count": 8,
   "id": "e7429047-e585-428d-993c-0eac444d95cc",
   "metadata": {},
   "outputs": [
    {
     "data": {
      "text/plain": [
       "<matplotlib.legend.Legend at 0x192c3267be0>"
      ]
     },
     "execution_count": 8,
     "metadata": {},
     "output_type": "execute_result"
    },
    {
     "data": {
      "image/png": "[encoded data removed]",
      "text/plain": [
       "<Figure size 432x288 with 1 Axes>"
      ]
     },
     "metadata": {
      "needs_background": "light"
     },
     "output_type": "display_data"
    }
   ],
   "source": [
    "# 회귀 모델 학습 결과 시각화\n",
    "plt.plot(history.history['loss'],'b-',label='loss')\n",
    "plt.plot(history.history['val_loss'],'r--',label='val_loss')\n",
    "plt.xlabel('Epoch')\n",
    "plt.legend()"
   ]
  },
  {
   "cell_type": "code",
   "execution_count": 12,
   "id": "c76284cb-17a6-4840-af87-1ba5a8d5365e",
   "metadata": {},
   "outputs": [
    {
     "name": "stdout",
     "output_type": "stream",
     "text": [
      "Model: \"sequential_1\"\n",
      "_________________________________________________________________\n",
      "Layer (type)                 Output Shape              Param #   \n",
      "=================================================================\n",
      "dense_4 (Dense)              (None, 52)                728       \n",
      "_________________________________________________________________\n",
      "dense_5 (Dense)              (None, 39)                2067      \n",
      "_________________________________________________________________\n",
      "dense_6 (Dense)              (None, 26)                1040      \n",
      "_________________________________________________________________\n",
      "dense_7 (Dense)              (None, 1)                 27        \n",
      "=================================================================\n",
      "Total params: 3,862\n",
      "Trainable params: 3,862\n",
      "Non-trainable params: 0\n",
      "_________________________________________________________________\n",
      "Epoch 1/25\n",
      "10/10 [==============================] - 0s 14ms/step - loss: 2.8046 - val_loss: 0.8600\n",
      "Epoch 2/25\n",
      "10/10 [==============================] - 0s 6ms/step - loss: 0.5507 - val_loss: 0.5094\n",
      "Epoch 3/25\n",
      "10/10 [==============================] - 0s 6ms/step - loss: 0.3308 - val_loss: 0.6501\n",
      "Epoch 4/25\n",
      "10/10 [==============================] - 0s 6ms/step - loss: 0.3878 - val_loss: 0.4989\n",
      "Epoch 5/25\n",
      "10/10 [==============================] - 0s 6ms/step - loss: 0.2883 - val_loss: 0.3822\n",
      "Epoch 6/25\n",
      "10/10 [==============================] - 0s 6ms/step - loss: 0.1947 - val_loss: 0.3045\n",
      "Epoch 7/25\n",
      "10/10 [==============================] - 0s 6ms/step - loss: 0.1712 - val_loss: 0.4004\n",
      "Epoch 8/25\n",
      "10/10 [==============================] - 0s 5ms/step - loss: 0.1700 - val_loss: 0.2488\n",
      "Epoch 9/25\n",
      "10/10 [==============================] - 0s 5ms/step - loss: 0.2317 - val_loss: 0.2242\n",
      "Epoch 10/25\n",
      "10/10 [==============================] - 0s 5ms/step - loss: 0.1550 - val_loss: 0.2726\n",
      "Epoch 11/25\n",
      "10/10 [==============================] - 0s 6ms/step - loss: 0.2532 - val_loss: 0.1598\n",
      "Epoch 12/25\n",
      "10/10 [==============================] - 0s 6ms/step - loss: 0.1340 - val_loss: 0.2429\n",
      "Epoch 13/25\n",
      "10/10 [==============================] - 0s 6ms/step - loss: 0.2263 - val_loss: 0.2071\n",
      "Epoch 14/25\n",
      "10/10 [==============================] - 0s 6ms/step - loss: 0.2128 - val_loss: 0.1742\n"
     ]
    }
   ],
   "source": [
    "# Boston Housing Dataset 회귀 모델 생성 (early stopping 추가)\n",
    "tf.random.set_seed(0)\n",
    "model=tf.keras.Sequential([\n",
    "    tf.keras.layers.Dense(units=52,activation='relu',input_shape=(13,)),\n",
    "    tf.keras.layers.Dense(units=39,activation='relu'),\n",
    "    tf.keras.layers.Dense(units=26,activation='relu'),\n",
    "    tf.keras.layers.Dense(units=1)\n",
    "])\n",
    "model.compile(optimizer=tf.keras.optimizers.Adam(lr=0.07),loss='mse')\n",
    "model.summary()\n",
    "history=model.fit(train_X,train_Y,epochs=25,batch_size=32,validation_split=0.25,\n",
    "                 callbacks=[tf.keras.callbacks.EarlyStopping(patience=3,monitor='val_loss')])"
   ]
  },
  {
   "cell_type": "code",
   "execution_count": 13,
   "id": "f06ac52d-e45f-4c4a-bcfa-4c37e9450707",
   "metadata": {},
   "outputs": [
    {
     "data": {
      "text/plain": [
       "<matplotlib.legend.Legend at 0x192c3910280>"
      ]
     },
     "execution_count": 13,
     "metadata": {},
     "output_type": "execute_result"
    },
    {
     "data": {
      "image/png": "[encoded data removed]",
      "text/plain": [
       "<Figure size 432x288 with 1 Axes>"
      ]
     },
     "metadata": {
      "needs_background": "light"
     },
     "output_type": "display_data"
    }
   ],
   "source": [
    "# 회귀 모델 학습 결과 시각화\n",
    "plt.plot(history.history['loss'],'b-',label='loss')\n",
    "plt.plot(history.history['val_loss'],'r--',label='val_loss')\n",
    "plt.xlabel('Epoch')\n",
    "plt.legend()"
   ]
  },
  {
   "cell_type": "code",
   "execution_count": null,
   "id": "504a4b8d-b487-46f9-9d2b-6e08a404feda",
   "metadata": {},
   "outputs": [],
   "source": [
    "import IPython\n",
    "app = IPython.Application.instance()\n",
    "app.kernel.do_shutdown(True)"
   ]
  }
 ],
 "metadata": {
  "kernelspec": {
   "display_name": "DL",
   "language": "python",
   "name": "dl"
  },
  "language_info": {
   "codemirror_mode": {
    "name": "ipython",
    "version": 3
   },
   "file_extension": ".py",
   "mimetype": "text/x-python",
   "name": "python",
   "nbconvert_exporter": "python",
   "pygments_lexer": "ipython3",
   "version": "3.8.11"
  }
 },
 "nbformat": 4,
 "nbformat_minor": 5
}
