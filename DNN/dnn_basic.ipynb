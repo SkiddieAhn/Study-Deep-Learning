{
 "cells": [
  {
   "cell_type": "code",
   "execution_count": 3,
   "id": "dd8b3555-d1dd-425e-9f41-14ebe54df208",
   "metadata": {},
   "outputs": [
    {
     "name": "stdout",
     "output_type": "stream",
     "text": [
      "1 Physical GPUs, 1 Logical GPUs\n"
     ]
    }
   ],
   "source": [
    "import tensorflow as tf\n",
    "gpus = tf.config.experimental.list_physical_devices('GPU')\n",
    "if gpus:\n",
    "    try: # Currently, memory growth needs to be the same across GPUs \n",
    "        for gpu in gpus:\n",
    "            tf.config.experimental.set_memory_growth(gpu, True)\n",
    "        logical_gpus = tf.config.experimental.list_logical_devices('GPU')\n",
    "        print(len(gpus), \"Physical GPUs,\", len(logical_gpus), \"Logical GPUs\")\n",
    "    except RuntimeError as e: # Memory growth must be set before GPUs have been initialized print(e)\n",
    "        print(e)"
   ]
  },
  {
   "cell_type": "code",
   "execution_count": 4,
   "id": "8303a724",
   "metadata": {},
   "outputs": [
    {
     "name": "stdout",
     "output_type": "stream",
     "text": [
      "2.4.0\n"
     ]
    }
   ],
   "source": [
    "import tensorflow as tf\n",
    "print(tf.__version__)"
   ]
  },
  {
   "cell_type": "code",
   "execution_count": 2,
   "id": "fd95dddc",
   "metadata": {},
   "outputs": [],
   "source": [
    "import math"
   ]
  },
  {
   "cell_type": "code",
   "execution_count": 34,
   "id": "45781246",
   "metadata": {},
   "outputs": [],
   "source": [
    "def sigmoid(x): # 0~1 값을 반환하는 함수 \n",
    "    return 1/(1+math.exp(-x))\n",
    "\n",
    "def deriv(x): # gradient구할 때 필요한 미분식 \n",
    "    return sigmoid(x)*(1-sigmoid(x))"
   ]
  },
  {
   "cell_type": "code",
   "execution_count": 181,
   "id": "57be5e92",
   "metadata": {},
   "outputs": [
    {
     "name": "stdout",
     "output_type": "stream",
     "text": [
      "tf.Tensor([-1.0522063], shape=(1,), dtype=float32) tf.Tensor([1.182891], shape=(1,), dtype=float32) 0.9033572934185515\n"
     ]
    }
   ],
   "source": [
    "x=1\n",
    "w=tf.random.normal([1],0,1) # 랜덤값 1개 얻기\n",
    "b=tf.random.normal([1],0,1)\n",
    "output=sigmoid(w*x+b)\n",
    "print(w,b,output)"
   ]
  },
  {
   "cell_type": "code",
   "execution_count": 182,
   "id": "bf842bde",
   "metadata": {},
   "outputs": [
    {
     "name": "stdout",
     "output_type": "stream",
     "text": [
      "9 0.903405447759648 0.903405447759648\n",
      "19 0.9034588835491778 0.9034588835491778\n",
      "29 0.9035122513657603 0.9035122513657603\n",
      "39 0.9035655305059659 0.9035655305059659\n",
      "49 0.9036187626002209 0.9036187626002209\n",
      "59 0.9036719269346551 0.9036719269346551\n",
      "69 0.903725002836257 0.903725002836257\n",
      "79 0.9037780111400854 0.9037780111400854\n",
      "89 0.9038309519167841 0.9038309519167841\n",
      "99 0.9038838252369048 0.9038838252369048\n"
     ]
    }
   ],
   "source": [
    "# sigmoid함수를 loss로 두고 최적화하기\n",
    "'''\n",
    "f(x)함수가 sigmoid일 때 w,b가 낮아질수록 오차가 줄어든다. 왜냐하면 wx+b의 값에서 w와 b를 낮추면 f(wx+b)가 낮아져서 점차 0에 가고 y가\n",
    "0이므로 오차가 점점 작아진다. w와 b를 낮추는 것은 Gradient를 이용해서 구하면 되겠다.\n",
    "참고로 w,b와 비례하는 wx+b를 gradient로 사용했을 때 더 잘 학습된다. 그리고 위 설명은 x가 양수인 경우에나 통한다.\n",
    "단순히 최적화의 간단한 소스일 뿐이다. \n",
    "'''\n",
    "lr=0.1\n",
    "y=0\n",
    "for i in range(100):\n",
    "    output=sigmoid(w*x+b)\n",
    "    error=abs(y-output)\n",
    "    \n",
    "    w=w-lr*deriv(w*x+b)\n",
    "    b=b-lr*deriv(w*x+b)\n",
    "    \n",
    "    if i%10 == 9: # 일부만 출력\n",
    "        print(i,error,output)"
   ]
  },
  {
   "cell_type": "code",
   "execution_count": 1,
   "id": "a25da0cc",
   "metadata": {},
   "outputs": [],
   "source": [
    "# Sequential API로 and 분류 모델 만들기 \n",
    "\n",
    "import numpy as np\n",
    "\n",
    "x=np.array([[1,1],[1,0],[0,1],[0,0]])\n",
    "y=np.array([[1],[0],[0],[0]])"
   ]
  },
  {
   "cell_type": "code",
   "execution_count": 5,
   "id": "5a867467",
   "metadata": {},
   "outputs": [
    {
     "name": "stdout",
     "output_type": "stream",
     "text": [
      "Model: \"sequential\"\n",
      "_________________________________________________________________\n",
      "Layer (type)                 Output Shape              Param #   \n",
      "=================================================================\n",
      "dense (Dense)                (None, 2)                 6         \n",
      "_________________________________________________________________\n",
      "dense_1 (Dense)              (None, 1)                 3         \n",
      "=================================================================\n",
      "Total params: 9\n",
      "Trainable params: 9\n",
      "Non-trainable params: 0\n",
      "_________________________________________________________________\n"
     ]
    }
   ],
   "source": [
    "model=tf.keras.Sequential([\n",
    "    tf.keras.layers.Dense(units=2,activation='sigmoid',input_shape=(2,)),\n",
    "    tf.keras.layers.Dense(units=1,activation='sigmoid')\n",
    "])\n",
    "model.compile(optimizer=tf.keras.optimizers.SGD(lr=0.3),loss='mse')\n",
    "model.summary()"
   ]
  },
  {
   "cell_type": "code",
   "execution_count": 8,
   "id": "29ae8063",
   "metadata": {},
   "outputs": [],
   "source": [
    "history=model.fit(x,y,epochs=1000,verbose=0)"
   ]
  },
  {
   "cell_type": "code",
   "execution_count": 9,
   "id": "40b39622",
   "metadata": {},
   "outputs": [
    {
     "name": "stdout",
     "output_type": "stream",
     "text": [
      "[[0.7032089 ]\n",
      " [0.20236574]\n",
      " [0.18666635]\n",
      " [0.02799182]]\n"
     ]
    }
   ],
   "source": [
    "output=model.predict(x)\n",
    "print(output)"
   ]
  },
  {
   "cell_type": "code",
   "execution_count": 17,
   "id": "9359fd3b",
   "metadata": {},
   "outputs": [
    {
     "data": {
      "text/plain": [
       "[<matplotlib.lines.Line2D at 0x166bd438fa0>]"
      ]
     },
     "execution_count": 17,
     "metadata": {},
     "output_type": "execute_result"
    },
    {
     "data": {
      "image/png": "[encoded data removed]",
      "text/plain": [
       "<Figure size 432x288 with 1 Axes>"
      ]
     },
     "metadata": {
      "needs_background": "light"
     },
     "output_type": "display_data"
    }
   ],
   "source": [
    "import matplotlib.pyplot as plt\n",
    "\n",
    "plt.plot(history.history['loss'])"
   ]
  },
  {
   "cell_type": "code",
   "execution_count": null,
   "id": "490c0978",
   "metadata": {},
   "outputs": [],
   "source": []
  }
 ],
 "metadata": {
  "kernelspec": {
   "display_name": "DL",
   "language": "python",
   "name": "dl"
  },
  "language_info": {
   "codemirror_mode": {
    "name": "ipython",
    "version": 3
   },
   "file_extension": ".py",
   "mimetype": "text/x-python",
   "name": "python",
   "nbconvert_exporter": "python",
   "pygments_lexer": "ipython3",
   "version": "3.8.11"
  }
 },
 "nbformat": 4,
 "nbformat_minor": 5
}
