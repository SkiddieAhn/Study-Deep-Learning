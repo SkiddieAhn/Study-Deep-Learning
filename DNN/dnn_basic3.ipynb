{
 "cells": [
  {
   "cell_type": "code",
   "execution_count": 1,
   "id": "f185c457-3483-4144-b74a-8f9e61659e62",
   "metadata": {},
   "outputs": [
    {
     "name": "stdout",
     "output_type": "stream",
     "text": [
      "1 Physical GPUs, 1 Logical GPUs\n"
     ]
    }
   ],
   "source": [
    "import tensorflow as tf\n",
    "gpus = tf.config.experimental.list_physical_devices('GPU')\n",
    "if gpus:\n",
    "    try: # Currently, memory growth needs to be the same across GPUs \n",
    "        for gpu in gpus:\n",
    "            tf.config.experimental.set_memory_growth(gpu, True)\n",
    "        logical_gpus = tf.config.experimental.list_logical_devices('GPU')\n",
    "        print(len(gpus), \"Physical GPUs,\", len(logical_gpus), \"Logical GPUs\")\n",
    "    except RuntimeError as e: # Memory growth must be set before GPUs have been initialized print(e)\n",
    "        print(e)"
   ]
  },
  {
   "cell_type": "code",
   "execution_count": 2,
   "id": "3cf8e16b-0ad0-49f4-bf20-38683ce0dc60",
   "metadata": {},
   "outputs": [
    {
     "name": "stdout",
     "output_type": "stream",
     "text": [
      "2.4.0\n"
     ]
    }
   ],
   "source": [
    "import tensorflow as tf\n",
    "import numpy as np\n",
    "import matplotlib.pyplot as plt\n",
    "from sklearn.datasets import make_regression\n",
    "import random\n",
    "print(tf.__version__)"
   ]
  },
  {
   "cell_type": "code",
   "execution_count": 3,
   "id": "5cfa377a-b3e0-455b-a3d4-5b9a1a50f157",
   "metadata": {},
   "outputs": [
    {
     "name": "stdout",
     "output_type": "stream",
     "text": [
      "(1000,)\n",
      "(1000,)\n"
     ]
    },
    {
     "data": {
      "image/png": "[encoded data removed]",
      "text/plain": [
       "<Figure size 432x288 with 1 Axes>"
      ]
     },
     "metadata": {
      "needs_background": "light"
     },
     "output_type": "display_data"
    }
   ],
   "source": [
    "# 원점에 가깝게 하고 싶으면 bias줄임, 퍼지게 하고 싶으면 noise줄임\n",
    "X,Y=make_regression(n_samples=1000,n_features=1,bias=20.0,noise=20.0,random_state=1)\n",
    "X=np.squeeze(X)\n",
    "print(X.shape)\n",
    "print(Y.shape)\n",
    "plt.scatter(X,Y)\n",
    "plt.xlabel('X')\n",
    "plt.ylabel('Y')\n",
    "plt.show()"
   ]
  },
  {
   "cell_type": "code",
   "execution_count": 4,
   "id": "fe9dfd4a-55f2-4c06-a069-abaccd4c5508",
   "metadata": {},
   "outputs": [
    {
     "name": "stdout",
     "output_type": "stream",
     "text": [
      "99 a: 6.8750095 b: 6.9479494 loss: 1569.9534\n",
      "199 a: 12.9561 b: 12.1721735 loss: 1105.8553\n",
      "299 a: 18.303448 b: 15.959657 loss: 813.8901\n",
      "399 a: 22.902096 b: 18.411764 loss: 636.1544\n",
      "499 a: 26.756618 b: 19.795422 loss: 530.4014\n",
      "599 a: 29.894524 b: 20.45431 loss: 469.10074\n",
      "699 a: 32.367172 b: 20.69881 loss: 434.99118\n",
      "799 a: 34.247395 b: 20.746355 loss: 417.06375\n",
      "899 a: 35.62357 b: 20.720596 loss: 408.26523\n",
      "999 a: 36.591187 b: 20.679289 loss: 404.26016\n"
     ]
    }
   ],
   "source": [
    "a=tf.Variable(random.random())\n",
    "b=tf.Variable(random.random())\n",
    "\n",
    "def function(X):\n",
    "    y_pred=a*X+b\n",
    "    return y_pred\n",
    "\n",
    "# MSE\n",
    "def compute_loss():\n",
    "    y_pred = function(X)\n",
    "    loss=tf.reduce_mean((Y-y_pred)**2)\n",
    "    return loss\n",
    "\n",
    "# 최적화 기법 \n",
    "optimizer=tf.keras.optimizers.Adam(lr=0.07)\n",
    "\n",
    "# 최적화  \n",
    "for i in range(1000):\n",
    "    optimizer.minimize(compute_loss,var_list=[a,b])\n",
    "    if i%100==99:\n",
    "        print(i,'a:',a.numpy(),'b:',b.numpy(),'loss:',compute_loss().numpy())\n",
    "\n",
    "line_x=np.arange(min(X),max(X),0.01)\n",
    "line_y=a*line_x+b"
   ]
  },
  {
   "cell_type": "code",
   "execution_count": 5,
   "id": "e27c530e-1610-47c8-a772-83c6d879938b",
   "metadata": {},
   "outputs": [
    {
     "data": {
      "image/png": "[encoded data removed]",
      "text/plain": [
       "<Figure size 432x288 with 1 Axes>"
      ]
     },
     "metadata": {
      "needs_background": "light"
     },
     "output_type": "display_data"
    }
   ],
   "source": [
    "plt.plot(line_x,line_y,'r-')\n",
    "plt.plot(X,Y,'bo')\n",
    "plt.xlabel('X')\n",
    "plt.ylabel('Y')\n",
    "plt.show()"
   ]
  },
  {
   "cell_type": "markdown",
   "id": "5da95a7c-19e1-4a32-8332-5461454b37c9",
   "metadata": {},
   "source": [
    "### Neural Network"
   ]
  },
  {
   "cell_type": "code",
   "execution_count": 4,
   "id": "eb202808-b102-4145-87e7-7d8eff83c036",
   "metadata": {},
   "outputs": [
    {
     "name": "stdout",
     "output_type": "stream",
     "text": [
      "Epoch 1/20\n",
      "32/32 [==============================] - 1s 2ms/step - loss: 1159.2820\n",
      "Epoch 2/20\n",
      "32/32 [==============================] - 0s 2ms/step - loss: 593.4258\n",
      "Epoch 3/20\n",
      "32/32 [==============================] - 0s 2ms/step - loss: 548.3405\n",
      "Epoch 4/20\n",
      "32/32 [==============================] - 0s 2ms/step - loss: 542.0041\n",
      "Epoch 5/20\n",
      "32/32 [==============================] - 0s 2ms/step - loss: 537.7525\n",
      "Epoch 6/20\n",
      "32/32 [==============================] - 0s 2ms/step - loss: 534.3874\n",
      "Epoch 7/20\n",
      "32/32 [==============================] - 0s 2ms/step - loss: 499.2973\n",
      "Epoch 8/20\n",
      "32/32 [==============================] - 0s 2ms/step - loss: 486.1348\n",
      "Epoch 9/20\n",
      "32/32 [==============================] - 0s 2ms/step - loss: 448.8337\n",
      "Epoch 10/20\n",
      "32/32 [==============================] - 0s 2ms/step - loss: 453.2093\n",
      "Epoch 11/20\n",
      "32/32 [==============================] - 0s 2ms/step - loss: 457.1488\n",
      "Epoch 12/20\n",
      "32/32 [==============================] - 0s 2ms/step - loss: 476.2862\n",
      "Epoch 13/20\n",
      "32/32 [==============================] - 0s 2ms/step - loss: 455.6309\n",
      "Epoch 14/20\n",
      "32/32 [==============================] - 0s 2ms/step - loss: 456.6397\n",
      "Epoch 15/20\n",
      "32/32 [==============================] - 0s 3ms/step - loss: 444.2206\n",
      "Epoch 16/20\n",
      "32/32 [==============================] - 0s 3ms/step - loss: 462.9294\n",
      "Epoch 17/20\n",
      "32/32 [==============================] - 0s 2ms/step - loss: 489.4031\n",
      "Epoch 18/20\n",
      "32/32 [==============================] - 0s 2ms/step - loss: 531.3723\n",
      "Epoch 19/20\n",
      "32/32 [==============================] - 0s 2ms/step - loss: 455.6911\n",
      "Epoch 20/20\n",
      "32/32 [==============================] - 0s 3ms/step - loss: 466.8974\n",
      "Model: \"sequential\"\n",
      "_________________________________________________________________\n",
      "Layer (type)                 Output Shape              Param #   \n",
      "=================================================================\n",
      "dense (Dense)                (None, 6)                 12        \n",
      "_________________________________________________________________\n",
      "dense_1 (Dense)              (None, 1)                 7         \n",
      "=================================================================\n",
      "Total params: 19\n",
      "Trainable params: 19\n",
      "Non-trainable params: 0\n",
      "_________________________________________________________________\n"
     ]
    }
   ],
   "source": [
    "model=tf.keras.Sequential([\n",
    "    tf.keras.layers.Dense(units=6,activation='sigmoid',input_shape=(1,)),\n",
    "    tf.keras.layers.Dense(units=1)\n",
    "])\n",
    "\n",
    "model.compile(optimizer=tf.keras.optimizers.SGD(lr=0.1),loss='mse')\n",
    "history=model.fit(X,Y,epochs=20,verbose=1) # 훈련 진행 상태 안 보이게\n",
    "model.summary()"
   ]
  },
  {
   "cell_type": "code",
   "execution_count": 8,
   "id": "e5e06c3f-420e-4cb8-99b9-2a419c17422c",
   "metadata": {},
   "outputs": [
    {
     "data": {
      "image/png": "[encoded data removed]",
      "text/plain": [
       "<Figure size 432x288 with 1 Axes>"
      ]
     },
     "metadata": {
      "needs_background": "light"
     },
     "output_type": "display_data"
    }
   ],
   "source": [
    "line_x=np.arange(min(X),max(X),0.01)\n",
    "line_y=model.predict(line_x)\n",
    "plt.plot(line_x,line_y,'r-')\n",
    "plt.plot(X,Y,'bo')\n",
    "plt.xlabel('X')\n",
    "plt.ylabel('Y')\n",
    "plt.show()"
   ]
  },
  {
   "cell_type": "code",
   "execution_count": 9,
   "id": "286ec7f9-f064-44a5-8813-2e2f0427723d",
   "metadata": {},
   "outputs": [
    {
     "data": {
      "text/plain": [
       "<matplotlib.legend.Legend at 0x22a3d68ce80>"
      ]
     },
     "execution_count": 9,
     "metadata": {},
     "output_type": "execute_result"
    },
    {
     "data": {
      "image/png": "[encoded data removed]",
      "text/plain": [
       "<Figure size 432x288 with 1 Axes>"
      ]
     },
     "metadata": {
      "needs_background": "light"
     },
     "output_type": "display_data"
    }
   ],
   "source": [
    "# 회귀 모델 학습 결과 시각화\n",
    "plt.plot(history.history['loss'],'b-',label='loss')\n",
    "plt.xlabel('Epoch')\n",
    "plt.legend()"
   ]
  },
  {
   "cell_type": "code",
   "execution_count": 10,
   "id": "47505e70-29ae-4877-9de9-73af8c0f576f",
   "metadata": {},
   "outputs": [
    {
     "data": {
      "text/plain": [
       "{'status': 'ok', 'restart': True}"
      ]
     },
     "execution_count": 10,
     "metadata": {},
     "output_type": "execute_result"
    }
   ],
   "source": [
    "import IPython\n",
    "app = IPython.Application.instance()\n",
    "app.kernel.do_shutdown(True)"
   ]
  },
  {
   "cell_type": "code",
   "execution_count": null,
   "id": "f32321ee-1740-40c4-a332-8cabeeff6758",
   "metadata": {},
   "outputs": [],
   "source": []
  }
 ],
 "metadata": {
  "kernelspec": {
   "display_name": "Python 3 (ipykernel)",
   "language": "python",
   "name": "python3"
  },
  "language_info": {
   "codemirror_mode": {
    "name": "ipython",
    "version": 3
   },
   "file_extension": ".py",
   "mimetype": "text/x-python",
   "name": "python",
   "nbconvert_exporter": "python",
   "pygments_lexer": "ipython3",
   "version": "3.8.11"
  }
 },
 "nbformat": 4,
 "nbformat_minor": 5
}
