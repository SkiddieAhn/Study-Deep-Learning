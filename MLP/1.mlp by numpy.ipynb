{
 "cells": [
  {
   "cell_type": "code",
   "execution_count": 29,
   "id": "ddb701bd-ae08-42ca-9fc7-02565df0e8b8",
   "metadata": {},
   "outputs": [
    {
     "name": "stdout",
     "output_type": "stream",
     "text": [
      "[[0 0]] [1] [[0.70938314]] \n",
      "\n",
      "[[0 1]] [0] [[0.72844306]] \n",
      "\n",
      "[[1 0]] [0] [[0.71791234]] \n",
      "\n",
      "[[1 1]] [1] [[0.73598705]] \n",
      "\n"
     ]
    }
   ],
   "source": [
    "import numpy as np\n",
    "\n",
    "# 활성화함수->sigmoid\n",
    "def actf(x):\n",
    "    return 1/(1+np.exp(-x))\n",
    "\n",
    "# 시그모이드 함수의 미분치\n",
    "def actf_deriv(x):\n",
    "    return x*(1-x)\n",
    "\n",
    "# 입력노드의 개수, 은닉노드의 개수, 출력노드의 개수\n",
    "inputs,hiddens,outputs=2,2,1\n",
    "learning_rate=0.2\n",
    "\n",
    "# 훈련 샘플과 정답 (XNOR게이트: 같으면 1, 다르면 0)\n",
    "X=np.array([[0,0],[0,1],[1,0],[1,1]])\n",
    "T=np.array([[1],[0],[0],[1]])\n",
    "\n",
    "# 가중치와 바이어스 \n",
    "W1=np.array([[0.10,0.20],[0.30,0.40]])\n",
    "W2=np.array([[0.50],[0.60]])\n",
    "B1=np.array([0.1,0.2])\n",
    "B2=np.array([0.3])\n",
    "\n",
    "# 순방향 전파 계산\n",
    "def predict(x):\n",
    "    layer0=x # 입력을 layer0에 대입한다.\n",
    "    Z1=np.dot(layer0,W1)+B1 # 행렬의 곱을 계산한다.\n",
    "    layer1=actf(Z1) # 활성화 함수를 적용한다.\n",
    "    Z2=np.dot(layer1,W2)+B2 # 행렬의 곱을 계산한다.\n",
    "    layer2=actf(Z2) # 활성화 함수를 적용한다.\n",
    "    return layer0,layer1,layer2\n",
    "\n",
    "# 순방향 패스 test \n",
    "def test():\n",
    "    for x,y in zip(X,T):\n",
    "        x=np.reshape(x,(1,-1)) # x를 2차원 행렬로 만든다. 입력은 2차원이어야 한다. \n",
    "        layer0,layer1,layer2=predict(x)\n",
    "        print(x,y,layer2,'\\n')\n",
    "test()"
   ]
  },
  {
   "cell_type": "code",
   "execution_count": 37,
   "id": "de386eeb-3a27-44bf-9444-24b3b1c5903a",
   "metadata": {},
   "outputs": [
    {
     "name": "stdout",
     "output_type": "stream",
     "text": [
      "[[0 0]] [1] [[0.99448388]] \n",
      "\n",
      "[[0 1]] [0] [[0.00569874]] \n",
      "\n",
      "[[1 0]] [0] [[0.00570093]] \n",
      "\n",
      "[[1 1]] [1] [[0.99302702]] \n",
      "\n"
     ]
    }
   ],
   "source": [
    "# 역방향 전파 계산\n",
    "def fit():\n",
    "    global W1,W2,B1,B2 # 전역 변수를 변경하기 위해 global키워드를 사용한다. \n",
    "    for i in range(90000): # 9만번 반복\n",
    "        for x,y in zip(X,T):# 학습 샘플을 하나씩 꺼낸다. \n",
    "            x=np.reshape(x,(1,-1)) # 2차원 행렬로 만든다.\n",
    "            y=np.reshape(y,(1,-1)) # 2차원 행렬로 만든다.\n",
    "            \n",
    "            layer0,layer1,layer2=predict(x) # 순방향 계산\n",
    "            layer2_error = layer2-y # 출력층의 오차 계산\n",
    "            layer2_delta = layer2_error*actf_deriv(layer2) # 출력층의 델타 계산\n",
    "            layer1_error = np.dot(layer2_delta,W2.T) # 은닉층의 오차 계산\n",
    "            layer1_delta = layer1_error*actf_deriv(layer1) # 은닉층의 델타 계산\n",
    "            \n",
    "            W2 += -learning_rate*np.dot(layer1.T,layer2_delta)\n",
    "            W1 += -learning_rate*np.dot(layer0.T,layer1_delta)\n",
    "            B2 += -learning_rate*np.sum(layer2_delta,axis=0)\n",
    "            B1 += -learning_rate*np.sum(layer1_delta,axis=0)\n",
    "\n",
    "# 역전파 테스트\n",
    "def test2():\n",
    "    for x,y in zip(X,T):\n",
    "        x=np.reshape(x,(1,-1)) # x를 2차원 행렬로 만든다. 입력은 2차원이어야 한다. \n",
    "        layer0,layer1,layer2=predict(x)\n",
    "        print(x,y,layer2,'\\n')\n",
    "fit()\n",
    "test2()"
   ]
  }
 ],
 "metadata": {
  "kernelspec": {
   "display_name": "Python 3",
   "language": "python",
   "name": "python3"
  },
  "language_info": {
   "codemirror_mode": {
    "name": "ipython",
    "version": 3
   },
   "file_extension": ".py",
   "mimetype": "text/x-python",
   "name": "python",
   "nbconvert_exporter": "python",
   "pygments_lexer": "ipython3",
   "version": "3.7.11"
  }
 },
 "nbformat": 4,
 "nbformat_minor": 5
}
