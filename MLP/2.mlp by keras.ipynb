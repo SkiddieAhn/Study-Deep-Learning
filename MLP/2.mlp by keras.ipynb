{
 "cells": [
  {
   "cell_type": "code",
   "execution_count": 1,
   "id": "b97d507f-48c1-4645-98b6-9690c4198b36",
   "metadata": {},
   "outputs": [],
   "source": [
    "import tensorflow as tf\n",
    "import numpy as np"
   ]
  },
  {
   "cell_type": "code",
   "execution_count": 2,
   "id": "1bf4b7ea-6bfd-4493-881c-9d8a5a199ee0",
   "metadata": {},
   "outputs": [
    {
     "name": "stdout",
     "output_type": "stream",
     "text": [
      "Model: \"sequential\"\n",
      "_________________________________________________________________\n",
      "Layer (type)                 Output Shape              Param #   \n",
      "=================================================================\n",
      "dense (Dense)                (None, 2)                 6         \n",
      "_________________________________________________________________\n",
      "dense_1 (Dense)              (None, 1)                 3         \n",
      "=================================================================\n",
      "Total params: 9\n",
      "Trainable params: 9\n",
      "Non-trainable params: 0\n",
      "_________________________________________________________________\n"
     ]
    }
   ],
   "source": [
    "# Sequential 모델 생성\n",
    "# 레이어를 선형으로 쌓을 수 있는 신경망 모델 (신경망 한 층 한 층을 레고 쌓듯이 쌓을 수 있음)\n",
    "model=tf.keras.models.Sequential()\n",
    "\n",
    "# 레이어 추가 (완전 연결된 레이어)\n",
    "model.add(tf.keras.layers.Dense(units=2, input_shape=(2,),activation='sigmoid')) # 시그모이드 유닛 2개를 가진 은닉층 (입력 유닛 2개)\n",
    "model.add(tf.keras.layers.Dense(units=1,activation='sigmoid')) # 시그모이드 유닛 1개를 가진 출력층 (은닉 유닛 2개인 것 알고 있음) \n",
    "\n",
    "# 모델 컴파일 (손실 함수 지정, 최적화 방법 지정)\n",
    "model.compile(loss='mse',optimizer=tf.keras.optimizers.SGD(lr=0.3)) # learning rate(학습률):0.3 \n",
    "\n",
    "# 구축한 모델 확인\n",
    "model.summary()"
   ]
  },
  {
   "cell_type": "code",
   "execution_count": null,
   "id": "182c770d-5025-4940-bc68-30411b5fa7d9",
   "metadata": {},
   "outputs": [],
   "source": [
    "# XOR 문제에 대한 입력과 정답 \n",
    "X=np.array([[0,0],[0,1],[1,0],[1,1]])\n",
    "y=np.array([[0],[1],[1],[0]])\n",
    "\n",
    "# 전체 데이터(4개)를 1000번 사용해서 학습, 한 번 학습할 때 사용할 데이터(샘플) 수는 1개 (입력 샘플을 1개씩 사용해서 학습-> 전체 데이터를 쓰려면 총 4번 반복 학습-> 이 과정을 1000번 함)\n",
    "# 전체 데이터 셋 기준으로는 1000번 학습\n",
    "# iteration 기준으로는 4000번 학습 \n",
    "model.fit(X,y,batch_size=1,epochs=1000)\n",
    "\n",
    "# 모델 테스트 \n",
    "print(model.predict(X))"
   ]
  },
  {
   "cell_type": "code",
   "execution_count": 3,
   "id": "972ffdbd-90aa-4904-ac1f-d9dac98c2048",
   "metadata": {},
   "outputs": [
    {
     "name": "stdout",
     "output_type": "stream",
     "text": [
      "Model: \"model\"\n",
      "_________________________________________________________________\n",
      "Layer (type)                 Output Shape              Param #   \n",
      "=================================================================\n",
      "input_1 (InputLayer)         [(None, 2)]               0         \n",
      "_________________________________________________________________\n",
      "dense_2 (Dense)              (None, 2)                 6         \n",
      "_________________________________________________________________\n",
      "dense_3 (Dense)              (None, 1)                 3         \n",
      "=================================================================\n",
      "Total params: 9\n",
      "Trainable params: 9\n",
      "Non-trainable params: 0\n",
      "_________________________________________________________________\n"
     ]
    }
   ],
   "source": [
    "# 함수형 API를 사용하는 방법\n",
    "\n",
    "# 레이어와 레이어를 변수로 연결시킴 \n",
    "inputs=tf.keras.Input(shape=(2,)) # 입력층\n",
    "x=tf.keras.layers.Dense(2,activation=\"sigmoid\")(inputs) # 은닉층 (이전 레이어를 인수를 이용해서 연결) <shape=(2,)>\n",
    "prediction=tf.keras.layers.Dense(1,activation=\"sigmoid\")(x) # 출력층 (이전 레이어를 인수를 이용해서 연결) \n",
    "\n",
    "# 연결시킨 레이어들을 가져와서 모델 생성 \n",
    "model=tf.keras.Model(inputs=inputs,outputs=prediction)\n",
    "\n",
    "# 모델 컴파일 (손실 함수 지정, 최적화 방법 지정)\n",
    "model.compile(loss='mse',optimizer=tf.keras.optimizers.SGD(lr=0.3)) # learning rate(학습률):0.3 \n",
    "# 구축한 모델 확인\n",
    "model.summary()"
   ]
  },
  {
   "cell_type": "code",
   "execution_count": null,
   "id": "a72c4416-baa1-440b-a7ac-97d1a8af174e",
   "metadata": {},
   "outputs": [],
   "source": [
    "# XOR 문제에 대한 입력과 정답 \n",
    "X=np.array([[0,0],[0,1],[1,0],[1,1]])\n",
    "y=np.array([[0],[1],[1],[0]])\n",
    "\n",
    "# 전체 데이터(4개)를 1000번 사용해서 학습, 한 번 학습할 때 사용할 데이터(샘플) 수는 1개 (입력 샘플을 1개씩 사용해서 학습-> 전체 데이터를 쓰려면 총 4번 반복 학습-> 이 과정을 1000번 함)\n",
    "# 전체 데이터 셋 기준으로는 1000번 학습\n",
    "# iteration 기준으로는 4000번 학습 \n",
    "model.fit(X,y,batch_size=1,epochs=1000)\n",
    "\n",
    "# 모델 테스트 \n",
    "print(model.predict(X))"
   ]
  }
 ],
 "metadata": {
  "kernelspec": {
   "display_name": "Python 3",
   "language": "python",
   "name": "python3"
  },
  "language_info": {
   "codemirror_mode": {
    "name": "ipython",
    "version": 3
   },
   "file_extension": ".py",
   "mimetype": "text/x-python",
   "name": "python",
   "nbconvert_exporter": "python",
   "pygments_lexer": "ipython3",
   "version": "3.7.11"
  }
 },
 "nbformat": 4,
 "nbformat_minor": 5
}
