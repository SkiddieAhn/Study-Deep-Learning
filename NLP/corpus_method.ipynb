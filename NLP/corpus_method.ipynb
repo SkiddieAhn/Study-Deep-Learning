{
 "cells": [
  {
   "cell_type": "code",
   "execution_count": 1,
   "metadata": {},
   "outputs": [],
   "source": [
    "import numpy as np"
   ]
  },
  {
   "cell_type": "markdown",
   "metadata": {},
   "source": [
    "전처리: corpus, word_to_id, id_to_word 제작"
   ]
  },
  {
   "cell_type": "code",
   "execution_count": 2,
   "metadata": {},
   "outputs": [],
   "source": [
    "def preprocessing(text):\n",
    "    text=text.lower()\n",
    "    text=text.replace('.',' .')\n",
    "    words=text.split(' ')\n",
    "\n",
    "    # Assin word to id and id to word\n",
    "    word_to_id={}\n",
    "    id_to_word={}\n",
    "    for word in words:\n",
    "        if word not in word_to_id:\n",
    "            new_id=len(word_to_id)\n",
    "            word_to_id[word]=new_id\n",
    "            id_to_word[new_id]=word\n",
    "    corpus=np.array([word_to_id[w] for w in words])\n",
    "    return corpus, word_to_id, id_to_word"
   ]
  },
  {
   "cell_type": "code",
   "execution_count": 3,
   "metadata": {},
   "outputs": [
    {
     "name": "stdout",
     "output_type": "stream",
     "text": [
      "[ 0  1  2  3  4  5  6  7  1  2  8  9 10] corpus size: 13\n",
      "{'you': 0, 'want': 1, 'to': 2, 'buy': 3, 'an': 4, 'icecream': 5, 'and': 6, 'i': 7, 'eat': 8, 'yours': 9, '.': 10} word_to_id size: 11\n",
      "{0: 'you', 1: 'want', 2: 'to', 3: 'buy', 4: 'an', 5: 'icecream', 6: 'and', 7: 'i', 8: 'eat', 9: 'yours', 10: '.'} id_to_word size: 11\n"
     ]
    }
   ],
   "source": [
    "text=\"You want to buy an icecream and I want to eat yours.\"\n",
    "corpus,word_to_id, id_to_word = preprocessing(text)\n",
    "print(corpus,'corpus size:', len(corpus))\n",
    "print(word_to_id,'word_to_id size:', len(word_to_id))\n",
    "print(id_to_word,'id_to_word size:', len(id_to_word))"
   ]
  },
  {
   "cell_type": "markdown",
   "metadata": {},
   "source": [
    "co-occurrence matrix: 단어 부근에 어떤 단어가 오는지 체크 (대칭 행렬)"
   ]
  },
  {
   "cell_type": "code",
   "execution_count": 4,
   "metadata": {},
   "outputs": [],
   "source": [
    "def create_co_matrix(corpus, vocab_size, window_size=1):\n",
    "    corpus_size=len(corpus)\n",
    "    co_matrix=np.zeros((vocab_size,vocab_size),dtype=np.int32)\n",
    "\n",
    "    for idx, word_id in enumerate(corpus):\n",
    "        for i in range(1,window_size+1):\n",
    "            left_idx=idx-1\n",
    "            right_idx=idx+1\n",
    "\n",
    "            if left_idx>=0:\n",
    "                left_word_id=corpus[left_idx]\n",
    "                co_matrix[word_id,left_word_id]+=1\n",
    "            \n",
    "            if right_idx < corpus_size:\n",
    "                right_word_id=corpus[right_idx]\n",
    "                co_matrix[word_id,right_word_id]+=1\n",
    "    \n",
    "    return co_matrix"
   ]
  },
  {
   "cell_type": "code",
   "execution_count": 5,
   "metadata": {},
   "outputs": [
    {
     "name": "stdout",
     "output_type": "stream",
     "text": [
      "[[0 1 0 0 0 0 0 0 0 0 0]\n",
      " [1 0 2 0 0 0 0 1 0 0 0]\n",
      " [0 2 0 1 0 0 0 0 1 0 0]\n",
      " [0 0 1 0 1 0 0 0 0 0 0]\n",
      " [0 0 0 1 0 1 0 0 0 0 0]\n",
      " [0 0 0 0 1 0 1 0 0 0 0]\n",
      " [0 0 0 0 0 1 0 1 0 0 0]\n",
      " [0 1 0 0 0 0 1 0 0 0 0]\n",
      " [0 0 1 0 0 0 0 0 0 1 0]\n",
      " [0 0 0 0 0 0 0 0 1 0 1]\n",
      " [0 0 0 0 0 0 0 0 0 1 0]]\n"
     ]
    }
   ],
   "source": [
    "co_matrix=create_co_matrix(corpus,vocab_size=len(word_to_id))\n",
    "print(co_matrix)"
   ]
  },
  {
   "cell_type": "markdown",
   "metadata": {},
   "source": [
    "cos similarity: 코사인 유사도"
   ]
  },
  {
   "cell_type": "code",
   "execution_count": 6,
   "metadata": {},
   "outputs": [],
   "source": [
    "def cos_similarity(x,y,eps=1e-8):\n",
    "    nx=x/np.sqrt(np.sum(x**2)+eps) # x/||x|| -> 1차원 벡터\n",
    "    ny=y/np.sqrt(np.sum(y**2)+eps) # y/||y|| -> 1차원 벡터\n",
    "\n",
    "    return np.dot(nx,ny) # 내적 "
   ]
  },
  {
   "cell_type": "code",
   "execution_count": 7,
   "metadata": {},
   "outputs": [
    {
     "name": "stdout",
     "output_type": "stream",
     "text": [
      "0.7071067758832467\n"
     ]
    }
   ],
   "source": [
    "x_idx=word_to_id['i']\n",
    "y_idx=word_to_id['you']\n",
    "\n",
    "x=co_matrix[x_idx] # x = 'I' vector\n",
    "y=co_matrix[y_idx] # y = 'You' vector\n",
    "print(cos_similarity(x,y))"
   ]
  },
  {
   "cell_type": "code",
   "execution_count": null,
   "metadata": {},
   "outputs": [],
   "source": []
  }
 ],
 "metadata": {
  "kernelspec": {
   "display_name": "Python 3.7.2 64-bit",
   "language": "python",
   "name": "python3"
  },
  "language_info": {
   "codemirror_mode": {
    "name": "ipython",
    "version": 3
   },
   "file_extension": ".py",
   "mimetype": "text/x-python",
   "name": "python",
   "nbconvert_exporter": "python",
   "pygments_lexer": "ipython3",
   "version": "3.7.2"
  },
  "orig_nbformat": 4,
  "vscode": {
   "interpreter": {
    "hash": "fbf5b09dcf9611edc59122919205caa52015032ff6213bd994a7dbcfc15e273a"
   }
  }
 },
 "nbformat": 4,
 "nbformat_minor": 2
}
