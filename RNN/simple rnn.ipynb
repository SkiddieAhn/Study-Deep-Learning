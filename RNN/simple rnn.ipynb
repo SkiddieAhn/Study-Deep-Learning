{
 "cells": [
  {
   "cell_type": "code",
   "execution_count": 1,
   "id": "3ae70dd2-9287-43a0-bdd0-2c8a72bd71f9",
   "metadata": {},
   "outputs": [],
   "source": [
    "import tensorflow as tf\n",
    "import numpy as np"
   ]
  },
  {
   "cell_type": "code",
   "execution_count": 2,
   "id": "3da6b036-1210-497c-a7bb-36b7adb4d41d",
   "metadata": {},
   "outputs": [],
   "source": [
    "rnn1=tf.keras.layers.SimpleRNN(units=1,activation='tanh',return_sequences=True) # 값을 반환할 때 sequences전체를 반환"
   ]
  },
  {
   "cell_type": "markdown",
   "id": "03483e63-8907-43b3-9cbf-d37ec94abe0e",
   "metadata": {},
   "source": [
    "## 다음 숫자 예측"
   ]
  },
  {
   "cell_type": "code",
   "execution_count": 5,
   "id": "8bba6ef2-bde6-4972-aa49-4804f843eeea",
   "metadata": {},
   "outputs": [
    {
     "name": "stdout",
     "output_type": "stream",
     "text": [
      "[[[0.0], [0.1], [0.2], [0.3]], [[0.1], [0.2], [0.3], [0.4]], [[0.2], [0.3], [0.4], [0.5]], [[0.3], [0.4], [0.5], [0.6]], [[0.4], [0.5], [0.6], [0.7]], [[0.5], [0.6], [0.7], [0.8]]]\n",
      "[0.4, 0.5, 0.6, 0.7, 0.8, 0.9]\n"
     ]
    }
   ],
   "source": [
    "X=[]\n",
    "Y=[]\n",
    "for i in range(6):\n",
    "    # [0,1,2,3], [1,2,3,4] 같은 정수의 시퀀스를 만든다. \n",
    "    lst=list(range(i,i+4))\n",
    "    # 위에서 구한 시퀀스의 숫자들을 각각 10으로 나눈 다음 저장한다. \n",
    "    # x의 첫 번째 원소: [0.1,0.2,0.3,0.4]\n",
    "    X.append(list(map(lambda c: [c/10], lst)))\n",
    "    # 정답에 해당하는 4,5등의 정수를 저장한다. \n",
    "    Y.append((i+4)/10)\n",
    "print(X)\n",
    "print(Y)"
   ]
  },
  {
   "cell_type": "code",
   "execution_count": 7,
   "id": "1837cf72-9a30-4809-aa5e-e9a2aef0da56",
   "metadata": {},
   "outputs": [
    {
     "name": "stdout",
     "output_type": "stream",
     "text": [
      "Model: \"sequential_1\"\n",
      "_________________________________________________________________\n",
      "Layer (type)                 Output Shape              Param #   \n",
      "=================================================================\n",
      "simple_rnn_2 (SimpleRNN)     (None, 10)                120       \n",
      "_________________________________________________________________\n",
      "dense_1 (Dense)              (None, 1)                 11        \n",
      "=================================================================\n",
      "Total params: 131\n",
      "Trainable params: 131\n",
      "Non-trainable params: 0\n",
      "_________________________________________________________________\n"
     ]
    }
   ],
   "source": [
    "model=tf.keras.Sequential([\n",
    "    tf.keras.layers.SimpleRNN(units=10,return_sequences=False,input_shape=[4,1]), # x와 y를 입력으로 줌 \n",
    "    tf.keras.layers.Dense(1) # output:1\n",
    "])\n",
    "model.compile(optimizer='adam',loss='mse')\n",
    "model.summary()"
   ]
  },
  {
   "cell_type": "code",
   "execution_count": 8,
   "id": "caa0c712-3d10-44c2-a517-078fc4f8ea3d",
   "metadata": {},
   "outputs": [
    {
     "name": "stdout",
     "output_type": "stream",
     "text": [
      "[[0.3888525 ]\n",
      " [0.5031426 ]\n",
      " [0.6096132 ]\n",
      " [0.7083105 ]\n",
      " [0.80005074]\n",
      " [0.88586617]]\n"
     ]
    }
   ],
   "source": [
    "model.fit(X,Y,epochs=100,verbose=0)\n",
    "print(model.predict(X))B"
   ]
  },
  {
   "cell_type": "code",
   "execution_count": 10,
   "id": "940ef05c-ac2c-4cc6-ad56-903a694966c7",
   "metadata": {},
   "outputs": [
    {
     "name": "stdout",
     "output_type": "stream",
     "text": [
      "[[0.96667457]]\n"
     ]
    }
   ],
   "source": [
    "print(model.predict(np.array([[[0.6],[0.7],[0.8],[0.9]]])))"
   ]
  },
  {
   "cell_type": "code",
   "execution_count": null,
   "id": "056bcd44-aef9-4014-b009-fe7d7ee51633",
   "metadata": {},
   "outputs": [],
   "source": []
  }
 ],
 "metadata": {
  "kernelspec": {
   "display_name": "DL",
   "language": "python",
   "name": "dl"
  },
  "language_info": {
   "codemirror_mode": {
    "name": "ipython",
    "version": 3
   },
   "file_extension": ".py",
   "mimetype": "text/x-python",
   "name": "python",
   "nbconvert_exporter": "python",
   "pygments_lexer": "ipython3",
   "version": "3.8.11"
  }
 },
 "nbformat": 4,
 "nbformat_minor": 5
}
