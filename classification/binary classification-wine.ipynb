{
 "cells": [
  {
   "cell_type": "code",
   "execution_count": 1,
   "id": "b66e3ccf-a578-4fa4-8db8-ec631b7ff889",
   "metadata": {},
   "outputs": [
    {
     "name": "stdout",
     "output_type": "stream",
     "text": [
      "2.4.0\n"
     ]
    }
   ],
   "source": [
    "import tensorflow as tf\n",
    "import numpy as np\n",
    "import matplotlib.pyplot as plt\n",
    "import pandas as pd\n",
    "\n",
    "print(tf.__version__)"
   ]
  },
  {
   "cell_type": "code",
   "execution_count": 11,
   "id": "75ab2607-d806-4c3a-bd6b-f99659e12c6c",
   "metadata": {},
   "outputs": [
    {
     "name": "stdout",
     "output_type": "stream",
     "text": [
      "   fixed acidity  volatile acidity  citric acid  residual sugar  chlorides  \\\n",
      "0            7.4              0.70         0.00             1.9      0.076   \n",
      "1            7.8              0.88         0.00             2.6      0.098   \n",
      "2            7.8              0.76         0.04             2.3      0.092   \n",
      "3           11.2              0.28         0.56             1.9      0.075   \n",
      "4            7.4              0.70         0.00             1.9      0.076   \n",
      "\n",
      "   free sulfur dioxide  total sulfur dioxide  density    pH  sulphates  \\\n",
      "0                 11.0                  34.0   0.9978  3.51       0.56   \n",
      "1                 25.0                  67.0   0.9968  3.20       0.68   \n",
      "2                 15.0                  54.0   0.9970  3.26       0.65   \n",
      "3                 17.0                  60.0   0.9980  3.16       0.58   \n",
      "4                 11.0                  34.0   0.9978  3.51       0.56   \n",
      "\n",
      "   alcohol  quality  \n",
      "0      9.4        5  \n",
      "1      9.8        5  \n",
      "2      9.8        5  \n",
      "3      9.8        6  \n",
      "4      9.4        5  \n",
      "   fixed acidity  volatile acidity  citric acid  residual sugar  chlorides  \\\n",
      "0            7.0              0.27         0.36            20.7      0.045   \n",
      "1            6.3              0.30         0.34             1.6      0.049   \n",
      "2            8.1              0.28         0.40             6.9      0.050   \n",
      "3            7.2              0.23         0.32             8.5      0.058   \n",
      "4            7.2              0.23         0.32             8.5      0.058   \n",
      "\n",
      "   free sulfur dioxide  total sulfur dioxide  density    pH  sulphates  \\\n",
      "0                 45.0                 170.0   1.0010  3.00       0.45   \n",
      "1                 14.0                 132.0   0.9940  3.30       0.49   \n",
      "2                 30.0                  97.0   0.9951  3.26       0.44   \n",
      "3                 47.0                 186.0   0.9956  3.19       0.40   \n",
      "4                 47.0                 186.0   0.9956  3.19       0.40   \n",
      "\n",
      "   alcohol  quality  \n",
      "0      8.8        6  \n",
      "1      9.5        6  \n",
      "2     10.1        6  \n",
      "3      9.9        6  \n",
      "4      9.9        6  \n"
     ]
    }
   ],
   "source": [
    "# 와인 데이터셋 불러오기\n",
    "red = pd.read_csv('http://archive.ics.uci.edu/ml/machine-learning-databases/wine-quality/winequality-red.csv', sep=';')\n",
    "white = pd.read_csv('http://archive.ics.uci.edu/ml/machine-learning-databases/wine-quality/winequality-white.csv', sep=';')\n",
    "print(red.head(5)) # quality: 타깃, 앞의 11열: 입력이지만 이진 분류를 위해 quality가 입력값이 됨 \n",
    "print(white.head(5))"
   ]
  },
  {
   "cell_type": "code",
   "execution_count": 3,
   "id": "639f57c1-11e4-4f23-9abc-5ffae5b9c9a2",
   "metadata": {},
   "outputs": [
    {
     "name": "stdout",
     "output_type": "stream",
     "text": [
      "   fixed acidity  volatile acidity  citric acid  residual sugar  chlorides  \\\n",
      "0            7.4              0.70          0.0             1.9      0.076   \n",
      "1            7.8              0.88          0.0             2.6      0.098   \n",
      "\n",
      "   free sulfur dioxide  total sulfur dioxide  density    pH  sulphates  \\\n",
      "0                 11.0                  34.0   0.9978  3.51       0.56   \n",
      "1                 25.0                  67.0   0.9968  3.20       0.68   \n",
      "\n",
      "   alcohol  quality  type  \n",
      "0      9.4        5     0  \n",
      "1      9.8        5     0  \n",
      "   fixed acidity  volatile acidity  citric acid  residual sugar  chlorides  \\\n",
      "0            7.0              0.27         0.36            20.7      0.045   \n",
      "1            6.3              0.30         0.34             1.6      0.049   \n",
      "\n",
      "   free sulfur dioxide  total sulfur dioxide  density   pH  sulphates  \\\n",
      "0                 45.0                 170.0    1.001  3.0       0.45   \n",
      "1                 14.0                 132.0    0.994  3.3       0.49   \n",
      "\n",
      "   alcohol  quality  type  \n",
      "0      8.8        6     1  \n",
      "1      9.5        6     1  \n"
     ]
    }
   ],
   "source": [
    "# 와인 데이터셋 합치기\n",
    "red['type']=0 # 'type'열 만들고 모두 0으로 만들기 (target_value)\n",
    "white['type']=1\n",
    "print(red.head(2))\n",
    "print(white.head(2))"
   ]
  },
  {
   "cell_type": "code",
   "execution_count": 4,
   "id": "ef1daa00-19f3-4571-86bd-a1b1403a3e68",
   "metadata": {},
   "outputs": [
    {
     "name": "stdout",
     "output_type": "stream",
     "text": [
      "       fixed acidity  volatile acidity  citric acid  residual sugar  \\\n",
      "count    6497.000000       6497.000000  6497.000000     6497.000000   \n",
      "mean        7.215307          0.339666     0.318633        5.443235   \n",
      "std         1.296434          0.164636     0.145318        4.757804   \n",
      "min         3.800000          0.080000     0.000000        0.600000   \n",
      "25%         6.400000          0.230000     0.250000        1.800000   \n",
      "50%         7.000000          0.290000     0.310000        3.000000   \n",
      "75%         7.700000          0.400000     0.390000        8.100000   \n",
      "max        15.900000          1.580000     1.660000       65.800000   \n",
      "\n",
      "         chlorides  free sulfur dioxide  total sulfur dioxide      density  \\\n",
      "count  6497.000000          6497.000000           6497.000000  6497.000000   \n",
      "mean      0.056034            30.525319            115.744574     0.994697   \n",
      "std       0.035034            17.749400             56.521855     0.002999   \n",
      "min       0.009000             1.000000              6.000000     0.987110   \n",
      "25%       0.038000            17.000000             77.000000     0.992340   \n",
      "50%       0.047000            29.000000            118.000000     0.994890   \n",
      "75%       0.065000            41.000000            156.000000     0.996990   \n",
      "max       0.611000           289.000000            440.000000     1.038980   \n",
      "\n",
      "                pH    sulphates      alcohol      quality         type  \n",
      "count  6497.000000  6497.000000  6497.000000  6497.000000  6497.000000  \n",
      "mean      3.218501     0.531268    10.491801     5.818378     0.753886  \n",
      "std       0.160787     0.148806     1.192712     0.873255     0.430779  \n",
      "min       2.720000     0.220000     8.000000     3.000000     0.000000  \n",
      "25%       3.110000     0.430000     9.500000     5.000000     1.000000  \n",
      "50%       3.210000     0.510000    10.300000     6.000000     1.000000  \n",
      "75%       3.320000     0.600000    11.300000     6.000000     1.000000  \n",
      "max       4.010000     2.000000    14.900000     9.000000     1.000000  \n"
     ]
    }
   ],
   "source": [
    "wine=pd.concat([red,white]) # red wine 데이터와 white wine데이터를 합침 \n",
    "print(wine.describe()) # 데이터에 대한 정보 출력"
   ]
  },
  {
   "cell_type": "code",
   "execution_count": 5,
   "id": "e6e4b178-b071-489c-89d1-79eef8f97435",
   "metadata": {},
   "outputs": [
    {
     "name": "stdout",
     "output_type": "stream",
     "text": [
      "<class 'pandas.core.frame.DataFrame'>\n",
      "Int64Index: 6497 entries, 0 to 4897\n",
      "Data columns (total 13 columns):\n",
      " #   Column                Non-Null Count  Dtype  \n",
      "---  ------                --------------  -----  \n",
      " 0   fixed acidity         6497 non-null   float64\n",
      " 1   volatile acidity      6497 non-null   float64\n",
      " 2   citric acid           6497 non-null   float64\n",
      " 3   residual sugar        6497 non-null   float64\n",
      " 4   chlorides             6497 non-null   float64\n",
      " 5   free sulfur dioxide   6497 non-null   float64\n",
      " 6   total sulfur dioxide  6497 non-null   float64\n",
      " 7   density               6497 non-null   float64\n",
      " 8   pH                    6497 non-null   float64\n",
      " 9   sulphates             6497 non-null   float64\n",
      " 10  alcohol               6497 non-null   float64\n",
      " 11  quality               6497 non-null   int64  \n",
      " 12  type                  6497 non-null   int64  \n",
      "dtypes: float64(11), int64(2)\n",
      "memory usage: 710.6 KB\n",
      "None\n"
     ]
    }
   ],
   "source": [
    "# 데이터 요약 정보\n",
    "print(wine.info())"
   ]
  },
  {
   "cell_type": "code",
   "execution_count": 6,
   "id": "db27be8d-96af-4c6c-981d-d029062a44d9",
   "metadata": {},
   "outputs": [
    {
     "name": "stdout",
     "output_type": "stream",
     "text": [
      "   fixed acidity  volatile acidity  citric acid  residual sugar  chlorides  \\\n",
      "0       0.297521          0.413333     0.000000        0.019939   0.111296   \n",
      "1       0.330579          0.533333     0.000000        0.030675   0.147841   \n",
      "2       0.330579          0.453333     0.024096        0.026074   0.137874   \n",
      "3       0.611570          0.133333     0.337349        0.019939   0.109635   \n",
      "4       0.297521          0.413333     0.000000        0.019939   0.111296   \n",
      "\n",
      "   free sulfur dioxide  total sulfur dioxide   density        pH  sulphates  \\\n",
      "0             0.034722              0.064516  0.206092  0.612403   0.191011   \n",
      "1             0.083333              0.140553  0.186813  0.372093   0.258427   \n",
      "2             0.048611              0.110599  0.190669  0.418605   0.241573   \n",
      "3             0.055556              0.124424  0.209948  0.341085   0.202247   \n",
      "4             0.034722              0.064516  0.206092  0.612403   0.191011   \n",
      "\n",
      "    alcohol   quality  type  \n",
      "0  0.202899  0.333333   0.0  \n",
      "1  0.260870  0.333333   0.0  \n",
      "2  0.260870  0.333333   0.0  \n",
      "3  0.260870  0.500000   0.0  \n",
      "4  0.202899  0.333333   0.0  \n",
      "       fixed acidity  volatile acidity  citric acid  residual sugar  \\\n",
      "count    6497.000000       6497.000000  6497.000000     6497.000000   \n",
      "mean        0.282257          0.173111     0.191948        0.074283   \n",
      "std         0.107143          0.109758     0.087541        0.072972   \n",
      "min         0.000000          0.000000     0.000000        0.000000   \n",
      "25%         0.214876          0.100000     0.150602        0.018405   \n",
      "50%         0.264463          0.140000     0.186747        0.036810   \n",
      "75%         0.322314          0.213333     0.234940        0.115031   \n",
      "max         1.000000          1.000000     1.000000        1.000000   \n",
      "\n",
      "         chlorides  free sulfur dioxide  total sulfur dioxide      density  \\\n",
      "count  6497.000000          6497.000000           6497.000000  6497.000000   \n",
      "mean      0.078129             0.102518              0.252868     0.146262   \n",
      "std       0.058195             0.061630              0.130235     0.057811   \n",
      "min       0.000000             0.000000              0.000000     0.000000   \n",
      "25%       0.048173             0.055556              0.163594     0.100829   \n",
      "50%       0.063123             0.097222              0.258065     0.149990   \n",
      "75%       0.093023             0.138889              0.345622     0.190476   \n",
      "max       1.000000             1.000000              1.000000     1.000000   \n",
      "\n",
      "                pH    sulphates      alcohol      quality         type  \n",
      "count  6497.000000  6497.000000  6497.000000  6497.000000  6497.000000  \n",
      "mean      0.386435     0.174870     0.361131     0.469730     0.753886  \n",
      "std       0.124641     0.083599     0.172857     0.145543     0.430779  \n",
      "min       0.000000     0.000000     0.000000     0.000000     0.000000  \n",
      "25%       0.302326     0.117978     0.217391     0.333333     1.000000  \n",
      "50%       0.379845     0.162921     0.333333     0.500000     1.000000  \n",
      "75%       0.465116     0.213483     0.478261     0.500000     1.000000  \n",
      "max       1.000000     1.000000     1.000000     1.000000     1.000000  \n"
     ]
    }
   ],
   "source": [
    "# 데이터 정규화 (값이 균일해야 됨, 너무 스케일이 제각각이면 학습이 잘 안 됨) \n",
    "wine_norm=(wine-wine.min())/(wine.max()-wine.min()) # 0~1사이로 정규화가 됨 \n",
    "print(wine_norm.head())\n",
    "print(wine_norm.describe())"
   ]
  },
  {
   "cell_type": "code",
   "execution_count": 7,
   "id": "b002adc1-6123-4f14-9103-395136861f3b",
   "metadata": {},
   "outputs": [
    {
     "name": "stdout",
     "output_type": "stream",
     "text": [
      "      fixed acidity  volatile acidity  citric acid  residual sugar  chlorides  \\\n",
      "1579       0.198347          0.320000     0.054217        0.016871   0.073090   \n",
      "3424       0.214876          0.160000     0.162651        0.065951   0.041528   \n",
      "186        0.297521          0.206667     0.289157        0.021472   0.121262   \n",
      "446        0.165289          0.133333     0.162651        0.030675   0.074751   \n",
      "271        0.115702          0.346667     0.042169        0.098160   0.058140   \n",
      "\n",
      "      free sulfur dioxide  total sulfur dioxide   density        pH  \\\n",
      "1579             0.079861              0.059908  0.133218  0.635659   \n",
      "3424             0.059028              0.267281  0.086563  0.496124   \n",
      "186              0.045139              0.140553  0.194525  0.480620   \n",
      "446              0.100694              0.345622  0.082707  0.627907   \n",
      "271              0.111111              0.324885  0.140544  0.472868   \n",
      "\n",
      "      sulphates   alcohol   quality  type  \n",
      "1579   0.213483  0.478261  0.333333   0.0  \n",
      "3424   0.275281  0.652174  0.500000   1.0  \n",
      "186    0.185393  0.173913  0.333333   0.0  \n",
      "446    0.112360  0.637681  0.333333   1.0  \n",
      "271    0.202247  0.246377  0.333333   1.0  \n",
      "[[0.19834711 0.32       0.05421687 0.01687117 0.0730897  0.07986111\n",
      "  0.05990783 0.13321766 0.63565891 0.21348315 0.47826087 0.33333333\n",
      "  0.        ]\n",
      " [0.21487603 0.16       0.1626506  0.06595092 0.04152824 0.05902778\n",
      "  0.26728111 0.08656256 0.49612403 0.2752809  0.65217391 0.5\n",
      "  1.        ]\n",
      " [0.29752066 0.20666667 0.28915663 0.02147239 0.12126246 0.04513889\n",
      "  0.140553   0.19452477 0.48062016 0.18539326 0.17391304 0.33333333\n",
      "  0.        ]\n",
      " [0.16528926 0.13333333 0.1626506  0.03067485 0.07475083 0.10069444\n",
      "  0.34562212 0.08270677 0.62790698 0.11235955 0.63768116 0.33333333\n",
      "  1.        ]\n",
      " [0.11570248 0.34666667 0.04216867 0.09815951 0.05813953 0.11111111\n",
      "  0.32488479 0.14054367 0.47286822 0.20224719 0.24637681 0.33333333\n",
      "  1.        ]]\n"
     ]
    }
   ],
   "source": [
    "# 데이터 섞은 후 numpy array로 변환\n",
    "wine_shuffle =wine_norm.sample(frac=1) # wine_norm의 데이터를 섞어라 (셔플)\n",
    "print(wine_shuffle.head())\n",
    "\n",
    "wine_np=wine_shuffle.to_numpy()\n",
    "print(wine_np[:5])"
   ]
  },
  {
   "cell_type": "code",
   "execution_count": 9,
   "id": "9f71e727-f1e5-4816-8077-740c9f114068",
   "metadata": {},
   "outputs": [
    {
     "name": "stdout",
     "output_type": "stream",
     "text": [
      "5197\n",
      "[0.19834711 0.32       0.05421687 0.01687117 0.0730897  0.07986111\n",
      " 0.05990783 0.13321766 0.63565891 0.21348315 0.47826087 0.33333333]\n",
      "0.0\n",
      "[0.23966942 0.1        0.23493976 0.0291411  0.27076412 0.21527778\n",
      " 0.35023041 0.12704839 0.30232558 0.07865169 0.20289855 0.5       ]\n",
      "1.0\n",
      "[1. 0.]\n",
      "[0. 1.]\n"
     ]
    }
   ],
   "source": [
    "# train 데이터와 test 데이터로 분리\n",
    "train_idx=int(len(wine_np)*0.8) # 데이터의 개수 * 0.8 = 80% 데이터 \n",
    "print(train_idx)\n",
    "# 100개 튜플 -> 입력:[80행, 마지막 열을 뺀 앞까지], 타깃:[80행, 마지막 열]\n",
    "train_X,train_Y=wine_np[:train_idx,:-1],wine_np[:train_idx,-1]\n",
    "test_X,test_Y=wine_np[train_idx:,:-1],wine_np[train_idx:,-1]\n",
    "print(train_X[0])\n",
    "print(train_Y[0])\n",
    "print(test_X[0])\n",
    "print(test_Y[0])\n",
    "# 원핫인코딩\n",
    "train_Y=tf.keras.utils.to_categorical(train_Y,num_classes=2)\n",
    "test_Y=tf.keras.utils.to_categorical(test_Y,num_classes=2)\n",
    "print(train_Y[0])\n",
    "print(test_Y[0])"
   ]
  },
  {
   "cell_type": "code",
   "execution_count": 10,
   "id": "b9eda552-3d08-4274-9b73-2e9f1396a673",
   "metadata": {},
   "outputs": [
    {
     "name": "stdout",
     "output_type": "stream",
     "text": [
      "Model: \"sequential\"\n",
      "_________________________________________________________________\n",
      "Layer (type)                 Output Shape              Param #   \n",
      "=================================================================\n",
      "dense (Dense)                (None, 48)                624       \n",
      "_________________________________________________________________\n",
      "dense_1 (Dense)              (None, 24)                1176      \n",
      "_________________________________________________________________\n",
      "dense_2 (Dense)              (None, 12)                300       \n",
      "_________________________________________________________________\n",
      "dense_3 (Dense)              (None, 2)                 26        \n",
      "=================================================================\n",
      "Total params: 2,126\n",
      "Trainable params: 2,126\n",
      "Non-trainable params: 0\n",
      "_________________________________________________________________\n",
      "Epoch 1/25\n",
      "122/122 [==============================] - 2s 11ms/step - loss: 0.2405 - accuracy: 0.8690 - val_loss: 0.1156 - val_accuracy: 0.9669\n",
      "Epoch 2/25\n",
      "122/122 [==============================] - 0s 3ms/step - loss: 0.0837 - accuracy: 0.9780 - val_loss: 0.0636 - val_accuracy: 0.9908\n",
      "Epoch 3/25\n",
      "122/122 [==============================] - 0s 3ms/step - loss: 0.0609 - accuracy: 0.9842 - val_loss: 0.0507 - val_accuracy: 0.9885\n",
      "Epoch 4/25\n",
      "122/122 [==============================] - 0s 3ms/step - loss: 0.0509 - accuracy: 0.9872 - val_loss: 0.0658 - val_accuracy: 0.9854\n",
      "Epoch 5/25\n",
      "122/122 [==============================] - 0s 3ms/step - loss: 0.0499 - accuracy: 0.9850 - val_loss: 0.0478 - val_accuracy: 0.9923\n",
      "Epoch 6/25\n",
      "122/122 [==============================] - 0s 3ms/step - loss: 0.0331 - accuracy: 0.9905 - val_loss: 0.0592 - val_accuracy: 0.9838\n",
      "Epoch 7/25\n",
      "122/122 [==============================] - 0s 3ms/step - loss: 0.0700 - accuracy: 0.9795 - val_loss: 0.0712 - val_accuracy: 0.9838\n",
      "Epoch 8/25\n",
      "122/122 [==============================] - 0s 3ms/step - loss: 0.0417 - accuracy: 0.9852 - val_loss: 0.0401 - val_accuracy: 0.9885\n",
      "Epoch 9/25\n",
      "122/122 [==============================] - 0s 3ms/step - loss: 0.0355 - accuracy: 0.9918 - val_loss: 0.0491 - val_accuracy: 0.9885\n",
      "Epoch 10/25\n",
      "122/122 [==============================] - 0s 3ms/step - loss: 0.0429 - accuracy: 0.9860 - val_loss: 0.0470 - val_accuracy: 0.9908\n",
      "Epoch 11/25\n",
      "122/122 [==============================] - 0s 3ms/step - loss: 0.0363 - accuracy: 0.9895 - val_loss: 0.0479 - val_accuracy: 0.9923\n",
      "Epoch 12/25\n",
      "122/122 [==============================] - 0s 3ms/step - loss: 0.0383 - accuracy: 0.9857 - val_loss: 0.1625 - val_accuracy: 0.9523\n",
      "Epoch 13/25\n",
      "122/122 [==============================] - 0s 3ms/step - loss: 0.0539 - accuracy: 0.9861 - val_loss: 0.0435 - val_accuracy: 0.9915\n",
      "Epoch 14/25\n",
      "122/122 [==============================] - 0s 3ms/step - loss: 0.0259 - accuracy: 0.9927 - val_loss: 0.0375 - val_accuracy: 0.9915\n",
      "Epoch 15/25\n",
      "122/122 [==============================] - 0s 3ms/step - loss: 0.0266 - accuracy: 0.9907 - val_loss: 0.0568 - val_accuracy: 0.9885\n",
      "Epoch 16/25\n",
      "122/122 [==============================] - 0s 3ms/step - loss: 0.0255 - accuracy: 0.9914 - val_loss: 0.1131 - val_accuracy: 0.9769\n",
      "Epoch 17/25\n",
      "122/122 [==============================] - 0s 3ms/step - loss: 0.0437 - accuracy: 0.9897 - val_loss: 0.0480 - val_accuracy: 0.9915\n",
      "Epoch 18/25\n",
      "122/122 [==============================] - 0s 3ms/step - loss: 0.0242 - accuracy: 0.9912 - val_loss: 0.0381 - val_accuracy: 0.9885\n",
      "Epoch 19/25\n",
      "122/122 [==============================] - 0s 3ms/step - loss: 0.0259 - accuracy: 0.9932 - val_loss: 0.0397 - val_accuracy: 0.9923\n",
      "Epoch 20/25\n",
      "122/122 [==============================] - 0s 3ms/step - loss: 0.0353 - accuracy: 0.9911 - val_loss: 0.0397 - val_accuracy: 0.9900\n",
      "Epoch 21/25\n",
      "122/122 [==============================] - 0s 3ms/step - loss: 0.0279 - accuracy: 0.9922 - val_loss: 0.0433 - val_accuracy: 0.9923\n",
      "Epoch 22/25\n",
      "122/122 [==============================] - 0s 3ms/step - loss: 0.0484 - accuracy: 0.9900 - val_loss: 0.0533 - val_accuracy: 0.9862\n",
      "Epoch 23/25\n",
      "122/122 [==============================] - 0s 3ms/step - loss: 0.0394 - accuracy: 0.9896 - val_loss: 0.0562 - val_accuracy: 0.9892\n",
      "Epoch 24/25\n",
      "122/122 [==============================] - 0s 3ms/step - loss: 0.0248 - accuracy: 0.9929 - val_loss: 0.0462 - val_accuracy: 0.9892\n",
      "Epoch 25/25\n",
      "122/122 [==============================] - 0s 3ms/step - loss: 0.0241 - accuracy: 0.9929 - val_loss: 0.0388 - val_accuracy: 0.9931\n"
     ]
    }
   ],
   "source": [
    "model=tf.keras.Sequential([\n",
    "    tf.keras.layers.Dense(units=48, activation='relu', input_shape=(12,)),\n",
    "    tf.keras.layers.Dense(units=24,activation='relu'),\n",
    "    tf.keras.layers.Dense(units=12,activation='relu'),\n",
    "    tf.keras.layers.Dense(units=2,activation='softmax')\n",
    "])\n",
    "\n",
    "model.compile(optimizer=tf.keras.optimizers.Adam(lr=0.07),loss='categorical_crossentropy', metrics=['accuracy'])\n",
    "model.summary()\n",
    "\n",
    "# 와인 데이터셋 분류 모델 학습\n",
    "history=model.fit(train_X,train_Y,epochs=25,batch_size=32,validation_split=0.25)"
   ]
  },
  {
   "cell_type": "code",
   "execution_count": null,
   "id": "9ddb3bb3-884d-4563-87f4-b782c9aab2f9",
   "metadata": {},
   "outputs": [],
   "source": []
  }
 ],
 "metadata": {
  "kernelspec": {
   "display_name": "DL",
   "language": "python",
   "name": "dl"
  },
  "language_info": {
   "codemirror_mode": {
    "name": "ipython",
    "version": 3
   },
   "file_extension": ".py",
   "mimetype": "text/x-python",
   "name": "python",
   "nbconvert_exporter": "python",
   "pygments_lexer": "ipython3",
   "version": "3.8.11"
  }
 },
 "nbformat": 4,
 "nbformat_minor": 5
}
