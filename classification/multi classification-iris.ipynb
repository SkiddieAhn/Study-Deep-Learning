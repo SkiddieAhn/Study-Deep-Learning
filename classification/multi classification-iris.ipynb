{
 "cells": [
  {
   "cell_type": "code",
   "execution_count": 3,
   "id": "7308c638-0506-416b-9c55-d406ff6a03ad",
   "metadata": {},
   "outputs": [
    {
     "name": "stdout",
     "output_type": "stream",
     "text": [
      "2.4.0\n"
     ]
    }
   ],
   "source": [
    "import tensorflow as tf\n",
    "import numpy as np\n",
    "import matplotlib.pyplot as plt\n",
    "from sklearn.datasets import load_iris\n",
    "from sklearn.model_selection import train_test_split\n",
    "\n",
    "print(tf.__version__)"
   ]
  },
  {
   "cell_type": "code",
   "execution_count": 4,
   "id": "fd5a968c-c550-44fc-8753-71b9714bd2fc",
   "metadata": {},
   "outputs": [
    {
     "name": "stdout",
     "output_type": "stream",
     "text": [
      "dict_keys(['data', 'target', 'frame', 'target_names', 'DESCR', 'feature_names', 'filename'])\n",
      "(150, 4)\n",
      "(150,)\n"
     ]
    }
   ],
   "source": [
    "iris=load_iris()\n",
    "print(iris.keys())\n",
    "X=iris['data']\n",
    "y=iris['target']\n",
    "print(X.shape)\n",
    "print(y.shape)\n",
    "trainX,testX,trainY,testY=train_test_split(X,y,test_size=0.2,stratify=y,random_state=1)"
   ]
  },
  {
   "cell_type": "code",
   "execution_count": 6,
   "id": "9f40d3bb-044b-4633-a3d6-85525f4bf35d",
   "metadata": {},
   "outputs": [
    {
     "name": "stdout",
     "output_type": "stream",
     "text": [
      "Model: \"sequential_1\"\n",
      "_________________________________________________________________\n",
      "Layer (type)                 Output Shape              Param #   \n",
      "=================================================================\n",
      "dense_2 (Dense)              (None, 6)                 30        \n",
      "_________________________________________________________________\n",
      "dense_3 (Dense)              (None, 3)                 21        \n",
      "=================================================================\n",
      "Total params: 51\n",
      "Trainable params: 51\n",
      "Non-trainable params: 0\n",
      "_________________________________________________________________\n",
      "Epoch 1/30\n",
      "8/8 [==============================] - 1s 2ms/step - loss: 1.6999 - accuracy: 0.3584\n",
      "Epoch 2/30\n",
      "8/8 [==============================] - 0s 2ms/step - loss: 0.9987 - accuracy: 0.5110\n",
      "Epoch 3/30\n",
      "8/8 [==============================] - 0s 2ms/step - loss: 0.7124 - accuracy: 0.7900\n",
      "Epoch 4/30\n",
      "8/8 [==============================] - 0s 2ms/step - loss: 0.5923 - accuracy: 0.8221\n",
      "Epoch 5/30\n",
      "8/8 [==============================] - 0s 2ms/step - loss: 0.4998 - accuracy: 0.8671\n",
      "Epoch 6/30\n",
      "8/8 [==============================] - 0s 2ms/step - loss: 0.4490 - accuracy: 0.9100\n",
      "Epoch 7/30\n",
      "8/8 [==============================] - 0s 2ms/step - loss: 0.4461 - accuracy: 0.7651\n",
      "Epoch 8/30\n",
      "8/8 [==============================] - 0s 2ms/step - loss: 0.4016 - accuracy: 0.9494\n",
      "Epoch 9/30\n",
      "8/8 [==============================] - 0s 2ms/step - loss: 0.3767 - accuracy: 0.9425\n",
      "Epoch 10/30\n",
      "8/8 [==============================] - 0s 2ms/step - loss: 0.3453 - accuracy: 0.9565\n",
      "Epoch 11/30\n",
      "8/8 [==============================] - 0s 2ms/step - loss: 0.3567 - accuracy: 0.8900\n",
      "Epoch 12/30\n",
      "8/8 [==============================] - 0s 2ms/step - loss: 0.3151 - accuracy: 0.9318\n",
      "Epoch 13/30\n",
      "8/8 [==============================] - 0s 2ms/step - loss: 0.3030 - accuracy: 0.9061\n",
      "Epoch 14/30\n",
      "8/8 [==============================] - 0s 2ms/step - loss: 0.2887 - accuracy: 0.9569\n",
      "Epoch 15/30\n",
      "8/8 [==============================] - 0s 2ms/step - loss: 0.2930 - accuracy: 0.9173\n",
      "Epoch 16/30\n",
      "8/8 [==============================] - 0s 2ms/step - loss: 0.2921 - accuracy: 0.8790\n",
      "Epoch 17/30\n",
      "8/8 [==============================] - 0s 2ms/step - loss: 0.2524 - accuracy: 0.9399\n",
      "Epoch 18/30\n",
      "8/8 [==============================] - 0s 2ms/step - loss: 0.2280 - accuracy: 0.9616\n",
      "Epoch 19/30\n",
      "8/8 [==============================] - 0s 2ms/step - loss: 0.2390 - accuracy: 0.9295\n",
      "Epoch 20/30\n",
      "8/8 [==============================] - 0s 2ms/step - loss: 0.2342 - accuracy: 0.9403\n",
      "Epoch 21/30\n",
      "8/8 [==============================] - 0s 2ms/step - loss: 0.2191 - accuracy: 0.9559\n",
      "Epoch 22/30\n",
      "8/8 [==============================] - 0s 2ms/step - loss: 0.1846 - accuracy: 0.9440\n",
      "Epoch 23/30\n",
      "8/8 [==============================] - 0s 2ms/step - loss: 0.2017 - accuracy: 0.9659\n",
      "Epoch 24/30\n",
      "8/8 [==============================] - 0s 2ms/step - loss: 0.2110 - accuracy: 0.9403\n",
      "Epoch 25/30\n",
      "8/8 [==============================] - 0s 2ms/step - loss: 0.1853 - accuracy: 0.9491\n",
      "Epoch 26/30\n",
      "8/8 [==============================] - 0s 2ms/step - loss: 0.2052 - accuracy: 0.9266\n",
      "Epoch 27/30\n",
      "8/8 [==============================] - 0s 2ms/step - loss: 0.1762 - accuracy: 0.9677\n",
      "Epoch 28/30\n",
      "8/8 [==============================] - 0s 2ms/step - loss: 0.2476 - accuracy: 0.8742\n",
      "Epoch 29/30\n",
      "8/8 [==============================] - 0s 2ms/step - loss: 0.1804 - accuracy: 0.9091\n",
      "Epoch 30/30\n",
      "8/8 [==============================] - 0s 2ms/step - loss: 0.1295 - accuracy: 0.9849\n"
     ]
    }
   ],
   "source": [
    "model = tf.keras.models.Sequential()\n",
    "\n",
    "model.add(tf.keras.layers.Dense(units=6,input_dim=trainX.shape[1],activation='tanh'))\n",
    "model.add(tf.keras.layers.Dense(units=3,activation='softmax'))\n",
    "\n",
    "optimizer=tf.keras.optimizers.SGD(learning_rate=0.01,momentum=0.9,nesterov=True)\n",
    "model.compile(optimizer=optimizer,loss='categorical_crossentropy',metrics=['accuracy'])\n",
    "model.summary()\n",
    "\n",
    "trainY_onehot=tf.keras.utils.to_categorical(trainY)\n",
    "history=model.fit(trainX,trainY_onehot,batch_size=16,epochs=30)"
   ]
  },
  {
   "cell_type": "code",
   "execution_count": 9,
   "id": "16ea7da9-a766-48fb-8a1b-f981795d1fa4",
   "metadata": {},
   "outputs": [
    {
     "name": "stdout",
     "output_type": "stream",
     "text": [
      "1/1 [==============================] - 0s 14ms/step - loss: 0.1020 - accuracy: 1.0000\n"
     ]
    }
   ],
   "source": [
    "testY_onehot=tf.keras.utils.to_categorical(testY)\n",
    "results=model.evaluate(testX,testY_onehot)"
   ]
  },
  {
   "cell_type": "code",
   "execution_count": null,
   "id": "e6370240-9c02-4208-aa7e-bf54b81da24a",
   "metadata": {},
   "outputs": [],
   "source": []
  }
 ],
 "metadata": {
  "kernelspec": {
   "display_name": "DL",
   "language": "python",
   "name": "dl"
  },
  "language_info": {
   "codemirror_mode": {
    "name": "ipython",
    "version": 3
   },
   "file_extension": ".py",
   "mimetype": "text/x-python",
   "name": "python",
   "nbconvert_exporter": "python",
   "pygments_lexer": "ipython3",
   "version": "3.8.11"
  }
 },
 "nbformat": 4,
 "nbformat_minor": 5
}
