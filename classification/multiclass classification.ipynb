{
 "cells": [
  {
   "cell_type": "code",
   "execution_count": 1,
   "id": "e7e41765-c7d1-4328-a000-fe806821f2aa",
   "metadata": {},
   "outputs": [
    {
     "name": "stdout",
     "output_type": "stream",
     "text": [
      "2.4.0\n"
     ]
    }
   ],
   "source": [
    "import tensorflow as tf\n",
    "import numpy as np\n",
    "import matplotlib.pyplot as plt\n",
    "import pandas as pd\n",
    "\n",
    "print(tf.__version__)"
   ]
  },
  {
   "cell_type": "code",
   "execution_count": 2,
   "id": "9885533e-835b-4279-8bbd-13c4ef112f09",
   "metadata": {},
   "outputs": [],
   "source": [
    "# 와인 데이터셋 불러오기\n",
    "red = pd.read_csv('http://archive.ics.uci.edu/ml/machine-learning-databases/wine-quality/winequality-red.csv', sep=';')\n",
    "white = pd.read_csv('http://archive.ics.uci.edu/ml/machine-learning-databases/wine-quality/winequality-white.csv', sep=';')\n",
    "\n",
    "# 와인 데이터셋 합치기\n",
    "red['type']=0 # 'type'열 만들고 모두 0으로 만들기 (feature_value, 입력 값) \n",
    "white['type']=1\n",
    "wine=pd.concat([red,white])"
   ]
  },
  {
   "cell_type": "code",
   "execution_count": 3,
   "id": "a1638d5b-5409-473c-adf2-d57ec2ed40a0",
   "metadata": {},
   "outputs": [
    {
     "name": "stdout",
     "output_type": "stream",
     "text": [
      "count    6497.000000\n",
      "mean        5.818378\n",
      "std         0.873255\n",
      "min         3.000000\n",
      "25%         5.000000\n",
      "50%         6.000000\n",
      "75%         6.000000\n",
      "max         9.000000\n",
      "Name: quality, dtype: float64\n",
      "6    2836\n",
      "5    2138\n",
      "7    1079\n",
      "4     216\n",
      "8     193\n",
      "3      30\n",
      "9       5\n",
      "Name: quality, dtype: int64\n"
     ]
    }
   ],
   "source": [
    "# 품질 데이터 확인\n",
    "print(wine['quality'].describe())\n",
    "print(wine['quality'].value_counts())"
   ]
  },
  {
   "cell_type": "code",
   "execution_count": 4,
   "id": "2fa4b251-cea8-492b-b576-b249cc5c5df2",
   "metadata": {},
   "outputs": [
    {
     "name": "stdout",
     "output_type": "stream",
     "text": [
      "count    6497.000000\n",
      "mean        0.829614\n",
      "std         0.731124\n",
      "min         0.000000\n",
      "25%         0.000000\n",
      "50%         1.000000\n",
      "75%         1.000000\n",
      "max         2.000000\n",
      "Name: new_quality, dtype: float64\n",
      "1.0    2836\n",
      "0.0    2384\n",
      "2.0    1277\n",
      "Name: new_quality, dtype: int64\n"
     ]
    }
   ],
   "source": [
    "# 품질을 3개의 범주(좋음, 보통, 나쁨)로 재분류\n",
    "wine.loc[wine['quality'] <=5,'new_quality'] = 0 # (target_value)\n",
    "wine.loc[wine['quality'] == 6, 'new_quality'] = 1\n",
    "wine.loc[wine['quality'] >=7, 'new_quality']=2\n",
    "\n",
    "print(wine['new_quality'].describe())\n",
    "print(wine['new_quality'].value_counts())"
   ]
  },
  {
   "cell_type": "code",
   "execution_count": 5,
   "id": "78fec521-02d4-4113-8975-e598f696227e",
   "metadata": {},
   "outputs": [
    {
     "name": "stdout",
     "output_type": "stream",
     "text": [
      "(6497, 13)\n",
      "[[1. 0. 0.]\n",
      " [1. 0. 0.]\n",
      " [0. 1. 0.]\n",
      " ...\n",
      " [0. 1. 0.]\n",
      " [0. 1. 0.]\n",
      " [0. 1. 0.]]\n"
     ]
    }
   ],
   "source": [
    "# 데이터 정규화 및 train,test 데이터 분리\n",
    "del wine['quality']\n",
    "wine_backup=wine.copy()\n",
    "wine_norm = (wine-wine.min())/ (wine.max()-wine.min())\n",
    "wine_norm['new_quality']=wine_backup['new_quality']\n",
    "wine_shuffle=wine_norm.sample(frac=1)\n",
    "wine_np=wine_shuffle.to_numpy()\n",
    "print(wine_np.shape)\n",
    "\n",
    "train_idx=int(len(wine_np)*0.8)\n",
    "train_X,train_Y=wine_np[:train_idx,:-1],wine_np[:train_idx,-1]\n",
    "test_X, test_Y=wine_np[train_idx:,:-1],wine_np[train_idx:,-1]\n",
    "train_Y=tf.keras.utils.to_categorical(train_Y,num_classes=3) # 원핫코딩 \n",
    "test_Y=tf.keras.utils.to_categorical(test_Y,num_classes=3)\n",
    "\n",
    "print(train_Y)"
   ]
  },
  {
   "cell_type": "code",
   "execution_count": 7,
   "id": "4c4f5aa0-7ef0-4380-9678-0228519f2389",
   "metadata": {},
   "outputs": [
    {
     "name": "stdout",
     "output_type": "stream",
     "text": [
      "(5197, 12)\n",
      "[0.55371901 0.18666667 0.28313253 0.02453988 0.10797342 0.02777778\n",
      " 0.03917051 0.17871602 0.39534884 0.30337079 0.57971014 0.        ]\n",
      "[0. 1. 0.]\n",
      "Index(['fixed acidity', 'volatile acidity', 'citric acid', 'residual sugar',\n",
      "       'chlorides', 'free sulfur dioxide', 'total sulfur dioxide', 'density',\n",
      "       'pH', 'sulphates', 'alcohol', 'type', 'new_quality'],\n",
      "      dtype='object')\n"
     ]
    }
   ],
   "source": [
    "print(train_X.shape)\n",
    "print(train_X[0])\n",
    "print(train_Y[0])\n",
    "print(wine_shuffle.keys())"
   ]
  },
  {
   "cell_type": "code",
   "execution_count": 8,
   "id": "e55e1aca-ef80-4c40-88a1-07a5f1756716",
   "metadata": {},
   "outputs": [
    {
     "name": "stdout",
     "output_type": "stream",
     "text": [
      "Epoch 1/15\n",
      "122/122 [==============================] - 2s 9ms/step - loss: 0.9916 - accuracy: 0.5121 - val_loss: 0.9066 - val_accuracy: 0.5569\n",
      "Epoch 2/15\n",
      "122/122 [==============================] - 0s 3ms/step - loss: 0.8860 - accuracy: 0.5638 - val_loss: 0.9383 - val_accuracy: 0.5254\n",
      "Epoch 3/15\n",
      "122/122 [==============================] - 0s 3ms/step - loss: 0.8645 - accuracy: 0.5711 - val_loss: 0.8734 - val_accuracy: 0.5546\n",
      "Epoch 4/15\n",
      "122/122 [==============================] - 0s 3ms/step - loss: 0.8632 - accuracy: 0.5747 - val_loss: 0.9121 - val_accuracy: 0.5477\n",
      "Epoch 5/15\n",
      "122/122 [==============================] - 0s 3ms/step - loss: 0.8730 - accuracy: 0.5766 - val_loss: 0.8624 - val_accuracy: 0.5762\n",
      "Epoch 6/15\n",
      "122/122 [==============================] - 0s 3ms/step - loss: 0.8410 - accuracy: 0.6018 - val_loss: 0.8660 - val_accuracy: 0.5823\n",
      "Epoch 7/15\n",
      "122/122 [==============================] - 0s 3ms/step - loss: 0.8487 - accuracy: 0.5793 - val_loss: 0.8540 - val_accuracy: 0.5792\n",
      "Epoch 8/15\n",
      "122/122 [==============================] - 0s 3ms/step - loss: 0.8397 - accuracy: 0.5905 - val_loss: 0.8580 - val_accuracy: 0.5731\n",
      "Epoch 9/15\n",
      "122/122 [==============================] - 0s 3ms/step - loss: 0.8473 - accuracy: 0.5770 - val_loss: 0.8600 - val_accuracy: 0.5700\n",
      "Epoch 10/15\n",
      "122/122 [==============================] - 0s 3ms/step - loss: 0.8327 - accuracy: 0.5817 - val_loss: 0.8626 - val_accuracy: 0.5831\n",
      "Epoch 11/15\n",
      "122/122 [==============================] - 0s 3ms/step - loss: 0.8409 - accuracy: 0.5824 - val_loss: 0.8600 - val_accuracy: 0.5769\n",
      "Epoch 12/15\n",
      "122/122 [==============================] - 0s 3ms/step - loss: 0.8394 - accuracy: 0.5894 - val_loss: 0.8910 - val_accuracy: 0.5585\n",
      "Epoch 13/15\n",
      "122/122 [==============================] - 0s 3ms/step - loss: 0.8224 - accuracy: 0.5887 - val_loss: 0.8511 - val_accuracy: 0.5769\n",
      "Epoch 14/15\n",
      "122/122 [==============================] - 0s 3ms/step - loss: 0.8230 - accuracy: 0.5961 - val_loss: 0.8500 - val_accuracy: 0.5800\n",
      "Epoch 15/15\n",
      "122/122 [==============================] - 0s 3ms/step - loss: 0.8329 - accuracy: 0.5844 - val_loss: 0.8639 - val_accuracy: 0.5846\n"
     ]
    }
   ],
   "source": [
    "# 와인 데이터셋 다항 분류 모델 생성 및 학습\n",
    "model=tf.keras.Sequential([\n",
    "    tf.keras.layers.Dense(units=48,activation='relu',input_shape=(12,)),\n",
    "    tf.keras.layers.Dense(units=24,activation='relu'),\n",
    "    tf.keras.layers.Dense(units=12,activation='relu'),\n",
    "    tf.keras.layers.Dense(units=3,activation='softmax')\n",
    "])\n",
    "\n",
    "model.compile(optimizer=tf.keras.optimizers.Adam(lr=0.003), loss='categorical_crossentropy', metrics=['accuracy'])\n",
    "\n",
    "history= model.fit(train_X,train_Y,epochs=15, batch_size=32,validation_split=0.25)"
   ]
  },
  {
   "cell_type": "code",
   "execution_count": 9,
   "id": "0c66435a-3a3e-4c09-92c6-dfb45b829c77",
   "metadata": {},
   "outputs": [
    {
     "data": {
      "image/png": "[encoded data removed]",
      "text/plain": [
       "<Figure size 864x288 with 2 Axes>"
      ]
     },
     "metadata": {
      "needs_background": "light"
     },
     "output_type": "display_data"
    }
   ],
   "source": [
    "# 다항 분류 모델 학습 결과 시각화\n",
    "plt.figure(figsize=(12,4))\n",
    "\n",
    "plt.subplot(1,2,1)\n",
    "plt.plot(history.history['loss'], 'b-', label='loss')\n",
    "plt.plot(history.history['val_loss'], 'r--', label='val_loss')\n",
    "plt.xlabel('Epoch')\n",
    "plt.legend()\n",
    "\n",
    "plt.subplot(1,2,2)\n",
    "plt.plot(history.history['accuracy'], 'g-', label='accuracy')\n",
    "plt.plot(history.history['val_accuracy'], 'k--', label='val_accuracy')\n",
    "plt.xlabel('Epoch')\n",
    "plt.ylim(0.5,0.7)\n",
    "plt.legend()\n",
    "plt.show()"
   ]
  },
  {
   "cell_type": "code",
   "execution_count": 10,
   "id": "ad0b2b59-7a34-4ce8-8b8a-b4a66543246c",
   "metadata": {},
   "outputs": [
    {
     "data": {
      "text/plain": [
       "array([[0.82609457, 0.16774924, 0.00615617],\n",
       "       [0.35124522, 0.51322764, 0.13552718],\n",
       "       [0.02532906, 0.31588677, 0.65878415],\n",
       "       ...,\n",
       "       [0.08881333, 0.47539094, 0.43579572],\n",
       "       [0.1174392 , 0.5065139 , 0.37604693],\n",
       "       [0.02701001, 0.30577278, 0.6672172 ]], dtype=float32)"
      ]
     },
     "execution_count": 10,
     "metadata": {},
     "output_type": "execute_result"
    }
   ],
   "source": [
    "model.predict(test_X)"
   ]
  },
  {
   "cell_type": "code",
   "execution_count": 24,
   "id": "b1724b04-e596-46bd-9077-445eb4adeb26",
   "metadata": {},
   "outputs": [
    {
     "name": "stdout",
     "output_type": "stream",
     "text": [
      "41/41 [==============================] - 0s 2ms/step - loss: 0.8248 - accuracy: 0.5892\n"
     ]
    },
    {
     "data": {
      "text/plain": [
       "[0.8248028755187988, 0.5892307758331299]"
      ]
     },
     "execution_count": 24,
     "metadata": {},
     "output_type": "execute_result"
    }
   ],
   "source": [
    "# 다항 분류 모델 평가\n",
    "model.evaluate(test_X,test_Y)"
   ]
  },
  {
   "cell_type": "code",
   "execution_count": 1,
   "id": "ff5fa97c-f44f-4e3c-873b-fc18341c6766",
   "metadata": {},
   "outputs": [
    {
     "data": {
      "text/plain": [
       "{'status': 'ok', 'restart': True}"
      ]
     },
     "execution_count": 1,
     "metadata": {},
     "output_type": "execute_result"
    }
   ],
   "source": [
    "import IPython\n",
    "app = IPython.Application.instance()\n",
    "app.kernel.do_shutdown(True)"
   ]
  },
  {
   "cell_type": "code",
   "execution_count": null,
   "id": "5a5d449d-dbe8-4eb6-9d83-d2331f032f99",
   "metadata": {},
   "outputs": [],
   "source": []
  }
 ],
 "metadata": {
  "kernelspec": {
   "display_name": "DL",
   "language": "python",
   "name": "dl"
  },
  "language_info": {
   "codemirror_mode": {
    "name": "ipython",
    "version": 3
   },
   "file_extension": ".py",
   "mimetype": "text/x-python",
   "name": "python",
   "nbconvert_exporter": "python",
   "pygments_lexer": "ipython3",
   "version": "3.8.11"
  }
 },
 "nbformat": 4,
 "nbformat_minor": 5
}
