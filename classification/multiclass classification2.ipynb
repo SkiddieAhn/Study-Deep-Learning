{
 "cells": [
  {
   "cell_type": "code",
   "execution_count": 1,
   "id": "1e6ba43a-a315-457f-98f0-362725607bee",
   "metadata": {},
   "outputs": [
    {
     "name": "stdout",
     "output_type": "stream",
     "text": [
      "1 Physical GPUs, 1 Logical GPUs\n"
     ]
    }
   ],
   "source": [
    "import tensorflow as tf\n",
    "gpus = tf.config.experimental.list_physical_devices('GPU')\n",
    "if gpus:\n",
    "    try: # Currently, memory growth needs to be the same across GPUs \n",
    "        for gpu in gpus:\n",
    "            tf.config.experimental.set_memory_growth(gpu, True)\n",
    "        logical_gpus = tf.config.experimental.list_logical_devices('GPU')\n",
    "        print(len(gpus), \"Physical GPUs,\", len(logical_gpus), \"Logical GPUs\")\n",
    "    except RuntimeError as e: # Memory growth must be set before GPUs have been initialized print(e)\n",
    "        print(e)"
   ]
  },
  {
   "cell_type": "code",
   "execution_count": 4,
   "id": "edd4626e-e9c5-426b-a312-570c37bd2ca0",
   "metadata": {},
   "outputs": [],
   "source": [
    "import tensorflow as tf\n",
    "import numpy as np\n",
    "import matplotlib.pyplot as plt"
   ]
  },
  {
   "cell_type": "code",
   "execution_count": 5,
   "id": "a1b255a1-db4f-458d-887b-73b84d2cb416",
   "metadata": {},
   "outputs": [
    {
     "name": "stdout",
     "output_type": "stream",
     "text": [
      "60000 10000\n"
     ]
    }
   ],
   "source": [
    "# MNIST 데이터셋 불러오기\n",
    "mnist=tf.keras.datasets.mnist\n",
    "(train_X,train_Y), (test_X,test_Y)=mnist.load_data()\n",
    "\n",
    "print(len(train_X), len(test_X))"
   ]
  },
  {
   "cell_type": "code",
   "execution_count": 6,
   "id": "a17748ce-1aa5-4822-ba6b-fecd88c33076",
   "metadata": {},
   "outputs": [
    {
     "data": {
      "image/png": "[encoded data removed]",
      "text/plain": [
       "<Figure size 432x288 with 2 Axes>"
      ]
     },
     "metadata": {
      "needs_background": "light"
     },
     "output_type": "display_data"
    },
    {
     "name": "stdout",
     "output_type": "stream",
     "text": [
      "5\n"
     ]
    }
   ],
   "source": [
    "# 데이터 확인\n",
    "plt.imshow(train_X[0], cmap='gray')\n",
    "plt.colorbar()\n",
    "plt.show()\n",
    "\n",
    "print(train_Y[0])"
   ]
  },
  {
   "cell_type": "code",
   "execution_count": 12,
   "id": "15bf6ca0-f131-43ed-9c51-228d7a31e652",
   "metadata": {},
   "outputs": [
    {
     "name": "stdout",
     "output_type": "stream",
     "text": [
      "[[0. 0. 0. ... 0. 0. 0.]\n",
      " [1. 0. 0. ... 0. 0. 0.]\n",
      " [0. 0. 0. ... 0. 0. 0.]\n",
      " ...\n",
      " [0. 0. 0. ... 0. 0. 0.]\n",
      " [0. 0. 0. ... 0. 0. 0.]\n",
      " [0. 0. 0. ... 0. 1. 0.]]\n"
     ]
    }
   ],
   "source": [
    "# 데이터 정규화\n",
    "train_X=train_X/255.0 # tain_X는 0~255의 그레이스케일 값임 -> 0에서 1사이로 정규화\n",
    "test_X=test_X/255.0\n",
    "\n",
    "train_Y_onehot=tf.keras.utils.to_categorical(train_Y,num_classes=10)\n",
    "test_Y_onehot=tf.keras.utils.to_categorical(test_Y,num_classes=10)"
   ]
  },
  {
   "cell_type": "code",
   "execution_count": 8,
   "id": "f791dbaf-4e70-4cf8-8530-6c939031e520",
   "metadata": {},
   "outputs": [
    {
     "name": "stdout",
     "output_type": "stream",
     "text": [
      "Model: \"sequential\"\n",
      "_________________________________________________________________\n",
      "Layer (type)                 Output Shape              Param #   \n",
      "=================================================================\n",
      "flatten (Flatten)            (None, 784)               0         \n",
      "_________________________________________________________________\n",
      "dense (Dense)                (None, 256)               200960    \n",
      "_________________________________________________________________\n",
      "dense_1 (Dense)              (None, 128)               32896     \n",
      "_________________________________________________________________\n",
      "dense_2 (Dense)              (None, 10)                1290      \n",
      "=================================================================\n",
      "Total params: 235,146\n",
      "Trainable params: 235,146\n",
      "Non-trainable params: 0\n",
      "_________________________________________________________________\n",
      "Epoch 1/5\n",
      "1407/1407 [==============================] - 5s 3ms/step - loss: 0.3988 - accuracy: 0.8831 - val_loss: 0.1199 - val_accuracy: 0.9632\n",
      "Epoch 2/5\n",
      "1407/1407 [==============================] - 4s 3ms/step - loss: 0.0944 - accuracy: 0.9708 - val_loss: 0.1244 - val_accuracy: 0.9628\n",
      "Epoch 3/5\n",
      "1407/1407 [==============================] - 4s 3ms/step - loss: 0.0567 - accuracy: 0.9828 - val_loss: 0.1012 - val_accuracy: 0.9687\n",
      "Epoch 4/5\n",
      "1407/1407 [==============================] - 4s 3ms/step - loss: 0.0398 - accuracy: 0.9876 - val_loss: 0.1065 - val_accuracy: 0.9704\n",
      "Epoch 5/5\n",
      "1407/1407 [==============================] - 4s 3ms/step - loss: 0.0340 - accuracy: 0.9895 - val_loss: 0.1102 - val_accuracy: 0.9714\n"
     ]
    }
   ],
   "source": [
    "# MNIST 분류 모델\n",
    "model=tf.keras.Sequential([\n",
    "    tf.keras.layers.Flatten(input_shape=(28,28)),\n",
    "    tf.keras.layers.Dense(units=256,activation='relu'),\n",
    "    tf.keras.layers.Dense(units=128,activation='relu'),\n",
    "    tf.keras.layers.Dense(units=10,activation='softmax')\n",
    "])\n",
    "\n",
    "model.compile(optimizer=tf.keras.optimizers.Adam(),loss='categorical_crossentropy',metrics=['accuracy'])\n",
    "model.summary()\n",
    "\n",
    "history=model.fit(train_X,train_Y_onehot,epochs=5,validation_split=0.25)"
   ]
  },
  {
   "cell_type": "code",
   "execution_count": 9,
   "id": "f2b40081-1478-49f5-8037-81ae68efb9fe",
   "metadata": {},
   "outputs": [
    {
     "data": {
      "image/png": "[encoded data removed]",
      "text/plain": [
       "<Figure size 864x288 with 2 Axes>"
      ]
     },
     "metadata": {
      "needs_background": "light"
     },
     "output_type": "display_data"
    }
   ],
   "source": [
    "# 다항 분류 모델 학습 결과 시각화\n",
    "plt.figure(figsize=(12,4))\n",
    "\n",
    "plt.subplot(1,2,1)\n",
    "plt.plot(history.history['loss'], 'b-', label='loss')\n",
    "plt.plot(history.history['val_loss'], 'r--', label='val_loss')\n",
    "plt.xlabel('Epoch')\n",
    "plt.legend()\n",
    "\n",
    "plt.subplot(1,2,2)\n",
    "plt.plot(history.history['accuracy'], 'g-', label='accuracy')\n",
    "plt.plot(history.history['val_accuracy'], 'k--', label='val_accuracy')\n",
    "plt.xlabel('Epoch')\n",
    "plt.ylim(0.7,1)\n",
    "plt.legend()\n",
    "plt.show()"
   ]
  },
  {
   "cell_type": "code",
   "execution_count": 10,
   "id": "9cda02f5-aea6-49c0-b36d-5bfe0fbdfc82",
   "metadata": {},
   "outputs": [
    {
     "name": "stdout",
     "output_type": "stream",
     "text": [
      "313/313 [==============================] - 0s 1ms/step - loss: 0.0984 - accuracy: 0.9740\n"
     ]
    },
    {
     "data": {
      "text/plain": [
       "[0.0984230563044548, 0.9739999771118164]"
      ]
     },
     "execution_count": 10,
     "metadata": {},
     "output_type": "execute_result"
    }
   ],
   "source": [
    "# MNIST 분류 모델 평가\n",
    "model.evaluate(test_X,test_Y_onehot)"
   ]
  },
  {
   "cell_type": "code",
   "execution_count": 19,
   "id": "a904d90e-aa4c-4153-a8ff-aeaa8942b3b4",
   "metadata": {},
   "outputs": [
    {
     "data": {
      "text/plain": [
       "array([[0.05421307, 0.04733187, 0.09132247, ..., 0.08545938, 0.16587825,\n",
       "        0.07801257],\n",
       "       [0.05825213, 0.04630571, 0.09223296, ..., 0.06996331, 0.17149617,\n",
       "        0.06871393],\n",
       "       [0.05400797, 0.04522828, 0.08741959, ..., 0.0759962 , 0.16672204,\n",
       "        0.07372458],\n",
       "       ...,\n",
       "       [0.05177635, 0.04578429, 0.08924796, ..., 0.07966711, 0.17586064,\n",
       "        0.07593168],\n",
       "       [0.05492195, 0.04534444, 0.09177291, ..., 0.07668212, 0.18243931,\n",
       "        0.06829716],\n",
       "       [0.05820491, 0.04781613, 0.09791111, ..., 0.07710858, 0.16928744,\n",
       "        0.06865   ]], dtype=float32)"
      ]
     },
     "execution_count": 19,
     "metadata": {},
     "output_type": "execute_result"
    }
   ],
   "source": [
    "model.predict(test_X)"
   ]
  },
  {
   "cell_type": "code",
   "execution_count": null,
   "id": "e4a5aa39-db6f-4dd8-922c-d42666bfb9ea",
   "metadata": {},
   "outputs": [],
   "source": []
  }
 ],
 "metadata": {
  "kernelspec": {
   "display_name": "DL",
   "language": "python",
   "name": "dl"
  },
  "language_info": {
   "codemirror_mode": {
    "name": "ipython",
    "version": 3
   },
   "file_extension": ".py",
   "mimetype": "text/x-python",
   "name": "python",
   "nbconvert_exporter": "python",
   "pygments_lexer": "ipython3",
   "version": "3.8.11"
  }
 },
 "nbformat": 4,
 "nbformat_minor": 5
}
